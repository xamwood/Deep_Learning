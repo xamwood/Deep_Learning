{
 "cells": [
  {
   "cell_type": "code",
   "execution_count": 11,
   "id": "92525b11",
   "metadata": {},
   "outputs": [],
   "source": [
    "import spotipy\n",
    "import spotipy.util as util\n",
    "import csv\n",
    "import requests\n",
    "import shutil\n",
    "import urllib.request\n",
    "from tqdm import tqdm\n",
    "import billboard\n",
    "import pandas as pd\n",
    "import time"
   ]
  },
  {
   "cell_type": "markdown",
   "id": "972594a3",
   "metadata": {},
   "source": [
    "### Creating Lists of Albums to get from Spotify"
   ]
  },
  {
   "cell_type": "code",
   "execution_count": 6,
   "id": "e14484ad",
   "metadata": {},
   "outputs": [],
   "source": [
    "# creating datelist\n",
    "dates = pd.date_range(start='1/1/2006', end='1/1/2022',freq = 'M')\n",
    "dates = dates.strftime('%Y-%m-%d').to_list()"
   ]
  },
  {
   "cell_type": "code",
   "execution_count": 3,
   "id": "ae47d0b6",
   "metadata": {},
   "outputs": [
    {
     "ename": "NameError",
     "evalue": "name 'tqdm' is not defined",
     "output_type": "error",
     "traceback": [
      "\u001b[0;31m---------------------------------------------------------------------------\u001b[0m",
      "\u001b[0;31mNameError\u001b[0m                                 Traceback (most recent call last)",
      "\u001b[0;32m/var/folders/vc/d1b_km4x7wb1xy8mb31ms7g00000gp/T/ipykernel_23299/2024157499.py\u001b[0m in \u001b[0;36m<module>\u001b[0;34m\u001b[0m\n\u001b[1;32m      1\u001b[0m \u001b[0mrock_albums\u001b[0m \u001b[0;34m=\u001b[0m \u001b[0;34m[\u001b[0m\u001b[0;34m]\u001b[0m\u001b[0;34m\u001b[0m\u001b[0;34m\u001b[0m\u001b[0m\n\u001b[0;32m----> 2\u001b[0;31m \u001b[0;32mfor\u001b[0m \u001b[0mdate\u001b[0m \u001b[0;32min\u001b[0m \u001b[0mtqdm\u001b[0m\u001b[0;34m(\u001b[0m\u001b[0mdates\u001b[0m\u001b[0;34m)\u001b[0m\u001b[0;34m:\u001b[0m\u001b[0;34m\u001b[0m\u001b[0;34m\u001b[0m\u001b[0m\n\u001b[0m\u001b[1;32m      3\u001b[0m     \u001b[0mrock_chart\u001b[0m \u001b[0;34m=\u001b[0m \u001b[0mbillboard\u001b[0m\u001b[0;34m.\u001b[0m\u001b[0mChartData\u001b[0m\u001b[0;34m(\u001b[0m\u001b[0;34m'rock-albums'\u001b[0m\u001b[0;34m,\u001b[0m\u001b[0mdate\u001b[0m \u001b[0;34m=\u001b[0m \u001b[0mdate\u001b[0m\u001b[0;34m)\u001b[0m\u001b[0;34m\u001b[0m\u001b[0;34m\u001b[0m\u001b[0m\n\u001b[1;32m      4\u001b[0m     \u001b[0mlisty\u001b[0m \u001b[0;34m=\u001b[0m \u001b[0;34m[\u001b[0m\u001b[0;34m(\u001b[0m\u001b[0mx\u001b[0m\u001b[0;34m.\u001b[0m\u001b[0martist\u001b[0m\u001b[0;34m,\u001b[0m\u001b[0mx\u001b[0m\u001b[0;34m.\u001b[0m\u001b[0mtitle\u001b[0m\u001b[0;34m)\u001b[0m \u001b[0;32mfor\u001b[0m \u001b[0mx\u001b[0m \u001b[0;32min\u001b[0m \u001b[0mrock_chart\u001b[0m\u001b[0;34m]\u001b[0m\u001b[0;34m\u001b[0m\u001b[0;34m\u001b[0m\u001b[0m\n\u001b[1;32m      5\u001b[0m     \u001b[0mrock_albums\u001b[0m \u001b[0;34m=\u001b[0m \u001b[0mrock_albums\u001b[0m\u001b[0;34m+\u001b[0m\u001b[0mlisty\u001b[0m\u001b[0;34m\u001b[0m\u001b[0;34m\u001b[0m\u001b[0m\n",
      "\u001b[0;31mNameError\u001b[0m: name 'tqdm' is not defined"
     ]
    }
   ],
   "source": [
    "rock_albums = []\n",
    "for date in tqdm(dates):\n",
    "    rock_chart = billboard.ChartData('rock-albums',date = date)\n",
    "    listy = [(x.artist,x.title) for x in rock_chart]\n",
    "    rock_albums = rock_albums+listy\n",
    "#rock_chart2 = billboard.ChartData('rock-albums',date = '2021-08-01')"
   ]
  },
  {
   "cell_type": "code",
   "execution_count": 22,
   "id": "1685f96f",
   "metadata": {},
   "outputs": [
    {
     "name": "stderr",
     "output_type": "stream",
     "text": [
      "100%|█████████████████████████████████████████| 192/192 [05:07<00:00,  1.60s/it]\n"
     ]
    }
   ],
   "source": [
    "rap_albums = []\n",
    "for date in tqdm(dates):\n",
    "    rap_chart = billboard.ChartData('rap-albums',date = date)\n",
    "    listy = [(x.artist,x.title) for x in rap_chart]\n",
    "    rap_albums = rap_albums+listy"
   ]
  },
  {
   "cell_type": "code",
   "execution_count": 25,
   "id": "af0e5fb2",
   "metadata": {},
   "outputs": [
    {
     "name": "stderr",
     "output_type": "stream",
     "text": [
      "100%|█████████████████████████████████████████| 192/192 [06:04<00:00,  1.90s/it]\n"
     ]
    }
   ],
   "source": [
    "christian_albums = []\n",
    "for date in tqdm(dates):\n",
    "    christ_chart = billboard.ChartData('christian-albums',date = date)\n",
    "    listy = [(x.artist,x.title) for x in christ_chart]\n",
    "    christian_albums = christian_albums+listy"
   ]
  },
  {
   "cell_type": "code",
   "execution_count": 30,
   "id": "f6837fae",
   "metadata": {},
   "outputs": [
    {
     "name": "stderr",
     "output_type": "stream",
     "text": [
      "100%|█████████████████████████████████████████| 192/192 [05:59<00:00,  1.87s/it]\n"
     ]
    }
   ],
   "source": [
    "latin_albums = []\n",
    "for date in tqdm(dates):\n",
    "    latin_chart = billboard.ChartData('latin-albums',date = date)\n",
    "    listy = [(x.artist,x.title) for x in latin_chart]\n",
    "    latin_albums = latin_albums+listy"
   ]
  },
  {
   "cell_type": "code",
   "execution_count": 31,
   "id": "0e26632e",
   "metadata": {},
   "outputs": [
    {
     "name": "stderr",
     "output_type": "stream",
     "text": [
      "100%|█████████████████████████████████████████| 192/192 [05:08<00:00,  1.61s/it]\n"
     ]
    }
   ],
   "source": [
    "jazz_albums = []\n",
    "for date in tqdm(dates):\n",
    "    jazz_chart = billboard.ChartData('jazz-albums',date = date)\n",
    "    listy = [(x.artist,x.title) for x in jazz_chart]\n",
    "    jazz_albums = jazz_albums+listy"
   ]
  },
  {
   "cell_type": "code",
   "execution_count": 32,
   "id": "1be21ebd",
   "metadata": {},
   "outputs": [
    {
     "name": "stderr",
     "output_type": "stream",
     "text": [
      "100%|█████████████████████████████████████████| 192/192 [05:47<00:00,  1.81s/it]\n"
     ]
    }
   ],
   "source": [
    "holiday_albums = []\n",
    "for date in tqdm(dates):\n",
    "    holiday_chart = billboard.ChartData('holiday-albums',date = date)\n",
    "    listy = [(x.artist,x.title) for x in holiday_chart]\n",
    "    holiday_albums = holiday_albums+listy"
   ]
  },
  {
   "cell_type": "code",
   "execution_count": 33,
   "id": "adb04464",
   "metadata": {},
   "outputs": [
    {
     "name": "stderr",
     "output_type": "stream",
     "text": [
      "100%|█████████████████████████████████████████| 192/192 [06:09<00:00,  1.93s/it]\n"
     ]
    }
   ],
   "source": [
    "country_albums = []\n",
    "for date in tqdm(dates):\n",
    "    country_chart = billboard.ChartData('country-albums',date = date)\n",
    "    listy = [(x.artist,x.title) for x in country_chart]\n",
    "    country_albums = country_albums+listy"
   ]
  },
  {
   "cell_type": "code",
   "execution_count": 40,
   "id": "f6401c8b",
   "metadata": {},
   "outputs": [],
   "source": [
    "rock_df = pd.DataFrame(set(rock_albums),columns = ['artist','album'])\n",
    "rap_df = pd.DataFrame(set(rap_albums),columns = ['artist','album'])\n",
    "country_df = pd.DataFrame(set(country_albums),columns = ['artist','album'])\n",
    "christian_df = pd.DataFrame(set(christian_albums),columns = ['artist','album'])\n",
    "latin_df = pd.DataFrame(set(latin_albums),columns = ['artist','album'])\n",
    "jazz_df = pd.DataFrame(set(jazz_albums),columns = ['artist','album'])\n",
    "holiday_df = pd.DataFrame(set(holiday_albums),columns = ['artist','album'])"
   ]
  },
  {
   "cell_type": "code",
   "execution_count": 96,
   "id": "8152cac9",
   "metadata": {},
   "outputs": [],
   "source": [
    "rock_df['rock'] = 1\n",
    "rap_df['rap'] = 1\n",
    "country_df['country'] = 1\n",
    "christian_df['christian'] = 1\n",
    "latin_df['latin'] = 1\n",
    "jazz_df['jazz'] = 1\n",
    "holiday_df['holiday'] = 1"
   ]
  },
  {
   "cell_type": "code",
   "execution_count": 223,
   "id": "0dbde562",
   "metadata": {},
   "outputs": [],
   "source": [
    "df = pd.merge(rock_df,rap_df,how = 'outer',left_on = ['artist','album'],right_on = ['artist','album'])\n",
    "df = pd.merge(df,country_df,how = 'outer',left_on = ['artist','album'],right_on = ['artist','album'])\n",
    "df = pd.merge(df,latin_df,how = 'outer',left_on = ['artist','album'],right_on = ['artist','album'])\n",
    "df = pd.merge(df,jazz_df,how = 'outer',left_on = ['artist','album'],right_on = ['artist','album'])\n",
    "df = pd.merge(df,holiday_df,how = 'outer',left_on = ['artist','album'],right_on = ['artist','album'])"
   ]
  },
  {
   "cell_type": "code",
   "execution_count": 224,
   "id": "5c5b8453",
   "metadata": {},
   "outputs": [],
   "source": [
    "df = df.fillna(0)"
   ]
  },
  {
   "cell_type": "markdown",
   "id": "17c73e46",
   "metadata": {},
   "source": [
    "### Getting album artwork from spotify"
   ]
  },
  {
   "cell_type": "code",
   "execution_count": 268,
   "id": "c11293a5",
   "metadata": {},
   "outputs": [],
   "source": [
    "#import necessary libaries\n",
    "import spotipy\n",
    "import spotipy.util as util\n",
    "import csv\n",
    "import requests\n",
    "import shutil\n",
    "import urllib.request\n",
    "\n",
    "#setup authorization(more information on this in the setup authorization file)\n",
    "username = '1210424674'\n",
    "client_id ='a68780d4730b497b84c8edc23651e29a'\n",
    "client_secret = '998df1f0ad5a458cb3667349541943b3'\n",
    "redirect_uri = 'https://scholar.google.com/citations?user=W-f3mugAAAAJ&hl=en' \n",
    "scope = 'user-library-read'\n",
    "\n",
    "token = util.prompt_for_user_token(username = username, \n",
    "                                   scope = scope, \n",
    "                                   client_id = client_id,   \n",
    "                                   client_secret = client_secret,     \n",
    "                                   redirect_uri = redirect_uri)\n",
    "\n",
    "spotify = spotipy.Spotify(auth = token)"
   ]
  },
  {
   "cell_type": "code",
   "execution_count": 273,
   "id": "1b7918c4",
   "metadata": {},
   "outputs": [],
   "source": [
    "def image_getter(album,artist):\n",
    "    results = spotify.search(q='artist:' + artist + 'album:' + album, type='album')\n",
    "    if len(results['albums']['items']) ==0:\n",
    "        return(np.nan)\n",
    "    image_url_big = results['albums']['items'][0]['images'][0]['url']\n",
    "    image_url_med = results['albums']['items'][0]['images'][1]['url']\n",
    "    time.sleep(.1)\n",
    "    return(image_url_big,image_url_med)"
   ]
  },
  {
   "cell_type": "code",
   "execution_count": 274,
   "id": "e792a4c0",
   "metadata": {},
   "outputs": [
    {
     "data": {
      "text/plain": [
       "('https://i.scdn.co/image/ab67616d0000b27399581550ef9746ca582bb3cc',\n",
       " 'https://i.scdn.co/image/ab67616d00001e0299581550ef9746ca582bb3cc')"
      ]
     },
     "execution_count": 274,
     "metadata": {},
     "output_type": "execute_result"
    }
   ],
   "source": [
    "image_getter('imagine','john lennon')"
   ]
  },
  {
   "cell_type": "code",
   "execution_count": 275,
   "id": "9ac94d0e",
   "metadata": {},
   "outputs": [],
   "source": [
    "sample_df_t = sample_df.head(10)"
   ]
  },
  {
   "cell_type": "code",
   "execution_count": 276,
   "id": "8f2ad459",
   "metadata": {},
   "outputs": [
    {
     "name": "stderr",
     "output_type": "stream",
     "text": [
      "100%|███████████████████████████████████████| 9525/9525 [49:27<00:00,  3.21it/s]\n"
     ]
    }
   ],
   "source": [
    "tqdm.pandas()\n",
    "df['image_url'] = df.progress_apply(lambda x,: image_getter(x.album,x.artist),axis = 1)"
   ]
  },
  {
   "cell_type": "code",
   "execution_count": 293,
   "id": "349c4a24",
   "metadata": {},
   "outputs": [],
   "source": [
    "df.to_pickle('./album_artwork_df_2.pkl')"
   ]
  },
  {
   "cell_type": "code",
   "execution_count": 25,
   "id": "61387708",
   "metadata": {},
   "outputs": [],
   "source": [
    "unpickled_df = pd.read_pickle('./album_artwork_df.pkl')"
   ]
  },
  {
   "cell_type": "code",
   "execution_count": 27,
   "id": "b9c7ea09",
   "metadata": {},
   "outputs": [
    {
     "ename": "RecursionError",
     "evalue": "maximum recursion depth exceeded while calling a Python object",
     "output_type": "error",
     "traceback": [
      "\u001b[0;31m---------------------------------------------------------------------------\u001b[0m",
      "\u001b[0;31mRecursionError\u001b[0m                            Traceback (most recent call last)",
      "\u001b[0;32m/var/folders/vc/d1b_km4x7wb1xy8mb31ms7g00000gp/T/ipykernel_23299/2680759679.py\u001b[0m in \u001b[0;36m<module>\u001b[0;34m\u001b[0m\n\u001b[0;32m----> 1\u001b[0;31m \u001b[0mdir\u001b[0m\u001b[0;34m(\u001b[0m\u001b[0munpickled_df\u001b[0m\u001b[0;34m)\u001b[0m\u001b[0;34m\u001b[0m\u001b[0;34m\u001b[0m\u001b[0m\n\u001b[0m",
      "\u001b[0;32m~/opt/miniconda3/envs/deep_learning/lib/python3.8/site-packages/pandas/core/accessor.py\u001b[0m in \u001b[0;36m__dir__\u001b[0;34m(self)\u001b[0m\n\u001b[1;32m     43\u001b[0m \u001b[0;34m\u001b[0m\u001b[0m\n\u001b[1;32m     44\u001b[0m \u001b[0;32mclass\u001b[0m \u001b[0mPandasDelegate\u001b[0m\u001b[0;34m:\u001b[0m\u001b[0;34m\u001b[0m\u001b[0;34m\u001b[0m\u001b[0m\n\u001b[0;32m---> 45\u001b[0;31m     \"\"\"\n\u001b[0m\u001b[1;32m     46\u001b[0m     \u001b[0mAbstract\u001b[0m \u001b[0mbase\u001b[0m \u001b[0;32mclass\u001b[0m \u001b[0;32mfor\u001b[0m \u001b[0mdelegating\u001b[0m \u001b[0mmethods\u001b[0m\u001b[0;34m/\u001b[0m\u001b[0mproperties\u001b[0m\u001b[0;34m.\u001b[0m\u001b[0;34m\u001b[0m\u001b[0;34m\u001b[0m\u001b[0m\n\u001b[1;32m     47\u001b[0m     \"\"\"\n",
      "\u001b[0;32m~/opt/miniconda3/envs/deep_learning/lib/python3.8/site-packages/pandas/core/generic.py\u001b[0m in \u001b[0;36m_dir_additions\u001b[0;34m(self)\u001b[0m\n\u001b[1;32m   5321\u001b[0m             \u001b[0mFraction\u001b[0m \u001b[0mof\u001b[0m \u001b[0maxis\u001b[0m \u001b[0mitems\u001b[0m \u001b[0mto\u001b[0m \u001b[0;32mreturn\u001b[0m\u001b[0;34m.\u001b[0m \u001b[0mCannot\u001b[0m \u001b[0mbe\u001b[0m \u001b[0mused\u001b[0m \u001b[0;32mwith\u001b[0m\u001b[0;31m \u001b[0m\u001b[0;31m`\u001b[0m\u001b[0mn\u001b[0m\u001b[0;31m`\u001b[0m\u001b[0;34m.\u001b[0m\u001b[0;34m\u001b[0m\u001b[0;34m\u001b[0m\u001b[0m\n\u001b[1;32m   5322\u001b[0m         \u001b[0mreplace\u001b[0m \u001b[0;34m:\u001b[0m \u001b[0mbool\u001b[0m\u001b[0;34m,\u001b[0m \u001b[0mdefault\u001b[0m \u001b[0;32mFalse\u001b[0m\u001b[0;34m\u001b[0m\u001b[0;34m\u001b[0m\u001b[0m\n\u001b[0;32m-> 5323\u001b[0;31m             \u001b[0mAllow\u001b[0m \u001b[0;32mor\u001b[0m \u001b[0mdisallow\u001b[0m \u001b[0msampling\u001b[0m \u001b[0mof\u001b[0m \u001b[0mthe\u001b[0m \u001b[0msame\u001b[0m \u001b[0mrow\u001b[0m \u001b[0mmore\u001b[0m \u001b[0mthan\u001b[0m \u001b[0monce\u001b[0m\u001b[0;34m.\u001b[0m\u001b[0;34m\u001b[0m\u001b[0;34m\u001b[0m\u001b[0m\n\u001b[0m\u001b[1;32m   5324\u001b[0m         \u001b[0mweights\u001b[0m \u001b[0;34m:\u001b[0m \u001b[0mstr\u001b[0m \u001b[0;32mor\u001b[0m \u001b[0mndarray\u001b[0m\u001b[0;34m-\u001b[0m\u001b[0mlike\u001b[0m\u001b[0;34m,\u001b[0m \u001b[0moptional\u001b[0m\u001b[0;34m\u001b[0m\u001b[0;34m\u001b[0m\u001b[0m\n\u001b[1;32m   5325\u001b[0m             \u001b[0mDefault\u001b[0m \u001b[0;34m'None'\u001b[0m \u001b[0mresults\u001b[0m \u001b[0;32min\u001b[0m \u001b[0mequal\u001b[0m \u001b[0mprobability\u001b[0m \u001b[0mweighting\u001b[0m\u001b[0;34m.\u001b[0m\u001b[0;34m\u001b[0m\u001b[0;34m\u001b[0m\u001b[0m\n",
      "\u001b[0;32m~/opt/miniconda3/envs/deep_learning/lib/python3.8/site-packages/pandas/core/generic.py\u001b[0m in \u001b[0;36m__getattr__\u001b[0;34m(self, name)\u001b[0m\n\u001b[1;32m   5270\u001b[0m         \u001b[0;36m4\u001b[0m  \u001b[0mmonkey\u001b[0m\u001b[0;34m\u001b[0m\u001b[0;34m\u001b[0m\u001b[0m\n\u001b[1;32m   5271\u001b[0m         \u001b[0;36m5\u001b[0m  \u001b[0mparrot\u001b[0m\u001b[0;34m\u001b[0m\u001b[0;34m\u001b[0m\u001b[0m\n\u001b[0;32m-> 5272\u001b[0;31m         \u001b[0;36m6\u001b[0m   \u001b[0mshark\u001b[0m\u001b[0;34m\u001b[0m\u001b[0;34m\u001b[0m\u001b[0m\n\u001b[0m\u001b[1;32m   5273\u001b[0m         \u001b[0;36m7\u001b[0m   \u001b[0mwhale\u001b[0m\u001b[0;34m\u001b[0m\u001b[0;34m\u001b[0m\u001b[0m\n\u001b[1;32m   5274\u001b[0m         \u001b[0;36m8\u001b[0m   \u001b[0mzebra\u001b[0m\u001b[0;34m\u001b[0m\u001b[0;34m\u001b[0m\u001b[0m\n",
      "\u001b[0;32m~/opt/miniconda3/envs/deep_learning/lib/python3.8/site-packages/pandas/core/generic.py\u001b[0m in \u001b[0;36m__getattr__\u001b[0;34m(self, name)\u001b[0m\n\u001b[1;32m   5270\u001b[0m         \u001b[0;36m4\u001b[0m  \u001b[0mmonkey\u001b[0m\u001b[0;34m\u001b[0m\u001b[0;34m\u001b[0m\u001b[0m\n\u001b[1;32m   5271\u001b[0m         \u001b[0;36m5\u001b[0m  \u001b[0mparrot\u001b[0m\u001b[0;34m\u001b[0m\u001b[0;34m\u001b[0m\u001b[0m\n\u001b[0;32m-> 5272\u001b[0;31m         \u001b[0;36m6\u001b[0m   \u001b[0mshark\u001b[0m\u001b[0;34m\u001b[0m\u001b[0;34m\u001b[0m\u001b[0m\n\u001b[0m\u001b[1;32m   5273\u001b[0m         \u001b[0;36m7\u001b[0m   \u001b[0mwhale\u001b[0m\u001b[0;34m\u001b[0m\u001b[0;34m\u001b[0m\u001b[0m\n\u001b[1;32m   5274\u001b[0m         \u001b[0;36m8\u001b[0m   \u001b[0mzebra\u001b[0m\u001b[0;34m\u001b[0m\u001b[0;34m\u001b[0m\u001b[0m\n",
      "... last 2 frames repeated, from the frame below ...\n",
      "\u001b[0;32m~/opt/miniconda3/envs/deep_learning/lib/python3.8/site-packages/pandas/core/generic.py\u001b[0m in \u001b[0;36m__getattr__\u001b[0;34m(self, name)\u001b[0m\n\u001b[1;32m   5270\u001b[0m         \u001b[0;36m4\u001b[0m  \u001b[0mmonkey\u001b[0m\u001b[0;34m\u001b[0m\u001b[0;34m\u001b[0m\u001b[0m\n\u001b[1;32m   5271\u001b[0m         \u001b[0;36m5\u001b[0m  \u001b[0mparrot\u001b[0m\u001b[0;34m\u001b[0m\u001b[0;34m\u001b[0m\u001b[0m\n\u001b[0;32m-> 5272\u001b[0;31m         \u001b[0;36m6\u001b[0m   \u001b[0mshark\u001b[0m\u001b[0;34m\u001b[0m\u001b[0;34m\u001b[0m\u001b[0m\n\u001b[0m\u001b[1;32m   5273\u001b[0m         \u001b[0;36m7\u001b[0m   \u001b[0mwhale\u001b[0m\u001b[0;34m\u001b[0m\u001b[0;34m\u001b[0m\u001b[0m\n\u001b[1;32m   5274\u001b[0m         \u001b[0;36m8\u001b[0m   \u001b[0mzebra\u001b[0m\u001b[0;34m\u001b[0m\u001b[0;34m\u001b[0m\u001b[0m\n",
      "\u001b[0;31mRecursionError\u001b[0m: maximum recursion depth exceeded while calling a Python object"
     ]
    }
   ],
   "source": [
    "dir(unpickled_df)"
   ]
  },
  {
   "cell_type": "code",
   "execution_count": 23,
   "id": "bdd08bef",
   "metadata": {},
   "outputs": [
    {
     "name": "stdout",
     "output_type": "stream",
     "text": [
      "# packages in environment at /Users/maxwood/opt/miniconda3/envs/deep_learning:\r\n",
      "#\r\n",
      "# Name                    Version                   Build  Channel\r\n",
      "_py-xgboost-mutex         2.0                       cpu_0  \r\n",
      "absl-py                   0.15.0                   pypi_0    pypi\r\n",
      "alabaster                 0.7.12             pyhd3eb1b0_0  \r\n",
      "applaunchservices         0.2.1              pyhd3eb1b0_0  \r\n",
      "appnope                   0.1.2           py38hecd8cb5_1001  \r\n",
      "argon2-cffi               21.3.0             pyhd3eb1b0_0  \r\n",
      "argon2-cffi-bindings      21.2.0           py38hca72f7f_0  \r\n",
      "arrow                     1.2.2              pyhd3eb1b0_0  \r\n",
      "astroid                   2.9.0            py38hecd8cb5_0  \r\n",
      "astunparse                1.6.3                    pypi_0    pypi\r\n",
      "atomicwrites              1.4.0                      py_0  \r\n",
      "attrs                     21.4.0             pyhd3eb1b0_0  \r\n",
      "autopep8                  1.6.0              pyhd3eb1b0_1  \r\n",
      "babel                     2.9.1              pyhd3eb1b0_0  \r\n",
      "backcall                  0.2.0              pyhd3eb1b0_0  \r\n",
      "beautifulsoup4            4.11.1           py38hecd8cb5_0  \r\n",
      "billboard-py              7.0.0                    pypi_0    pypi\r\n",
      "binaryornot               0.4.4              pyhd3eb1b0_1  \r\n",
      "black                     22.3.0             pyhd8ed1ab_0    conda-forge\r\n",
      "bleach                    4.1.0              pyhd3eb1b0_0  \r\n",
      "bottleneck                1.3.4            py38h67323c0_0  \r\n",
      "brotli                    1.0.9                hb1e8313_2  \r\n",
      "brotlipy                  0.7.0           py38h9ed2024_1003  \r\n",
      "bzip2                     1.0.8                h1de35cc_0  \r\n",
      "ca-certificates           2022.4.26            hecd8cb5_0  \r\n",
      "cachetools                5.1.0                    pypi_0    pypi\r\n",
      "certifi                   2022.5.18.1      py38hecd8cb5_0  \r\n",
      "cffi                      1.15.0           py38hc55c11b_1  \r\n",
      "chardet                   4.0.0           py38hecd8cb5_1003  \r\n",
      "charset-normalizer        2.0.4              pyhd3eb1b0_0  \r\n",
      "click                     8.0.4            py38hecd8cb5_0  \r\n",
      "cloudpickle               2.0.0              pyhd3eb1b0_0  \r\n",
      "colorama                  0.4.4              pyhd3eb1b0_0  \r\n",
      "cookiecutter              1.7.3              pyhd3eb1b0_0  \r\n",
      "cryptography              37.0.1           py38hf6deb26_0  \r\n",
      "cycler                    0.11.0             pyhd3eb1b0_0  \r\n",
      "dataclasses               0.8                pyh6d0b6a4_7  \r\n",
      "debugpy                   1.5.1            py38he9d5cce_0  \r\n",
      "decorator                 5.1.1              pyhd3eb1b0_0  \r\n",
      "defusedxml                0.7.1              pyhd3eb1b0_0  \r\n",
      "diff-match-patch          20200713           pyhd3eb1b0_0  \r\n",
      "dill                      0.3.5.1                  pypi_0    pypi\r\n",
      "docutils                  0.17.1           py38hecd8cb5_1  \r\n",
      "entrypoints               0.4              py38hecd8cb5_0  \r\n",
      "etils                     0.6.0                    pypi_0    pypi\r\n",
      "flake8                    4.0.1              pyhd3eb1b0_1  \r\n",
      "flatbuffers               1.12                     pypi_0    pypi\r\n",
      "fonttools                 4.25.0             pyhd3eb1b0_0  \r\n",
      "freetype                  2.11.0               hd8bbffd_0  \r\n",
      "gast                      0.3.3                    pypi_0    pypi\r\n",
      "gensim                    3.8.3            py38hc84c608_2    conda-forge\r\n",
      "gettext                   0.19.8.1          hd1a6beb_1008    conda-forge\r\n",
      "giflib                    5.2.1                haf1e3a3_0  \r\n",
      "glib                      2.70.2               hcf210ce_4    conda-forge\r\n",
      "glib-tools                2.70.2               hcf210ce_4    conda-forge\r\n",
      "google-api-core           2.8.0                    pypi_0    pypi\r\n",
      "google-api-python-client  2.48.0                   pypi_0    pypi\r\n",
      "google-auth               2.6.6                    pypi_0    pypi\r\n",
      "google-auth-httplib2      0.1.0                    pypi_0    pypi\r\n",
      "google-auth-oauthlib      0.4.6                    pypi_0    pypi\r\n",
      "google-pasta              0.2.0                    pypi_0    pypi\r\n",
      "googleapis-common-protos  1.56.1                   pypi_0    pypi\r\n",
      "grpcio                    1.32.0                   pypi_0    pypi\r\n",
      "gst-plugins-base          1.18.5               h191729d_0  \r\n",
      "gstreamer                 1.18.5               hb642b71_0  \r\n",
      "h5py                      2.10.0                   pypi_0    pypi\r\n",
      "httplib2                  0.20.4                   pypi_0    pypi\r\n",
      "icu                       69.1                 he49afe7_0    conda-forge\r\n",
      "idna                      3.3                pyhd3eb1b0_0  \r\n",
      "imagesize                 1.3.0              pyhd3eb1b0_0  \r\n",
      "importlib-metadata        4.11.4                   pypi_0    pypi\r\n",
      "importlib_metadata        4.11.3               hd3eb1b0_0  \r\n",
      "importlib_resources       5.2.0              pyhd3eb1b0_1  \r\n",
      "inflection                0.5.1            py38hecd8cb5_0  \r\n",
      "intervaltree              3.1.0              pyhd3eb1b0_0  \r\n",
      "ipykernel                 6.13.0           py38h60dac5d_0    conda-forge\r\n",
      "ipython                   7.31.1           py38hecd8cb5_0  \r\n",
      "ipython_genutils          0.2.0              pyhd3eb1b0_1  \r\n",
      "isort                     5.9.3              pyhd3eb1b0_0  \r\n",
      "jedi                      0.18.1           py38hecd8cb5_1  \r\n",
      "jellyfish                 0.9.0            py38hca72f7f_0  \r\n",
      "jinja2                    3.0.3              pyhd3eb1b0_0  \r\n",
      "jinja2-time               0.2.0              pyhd3eb1b0_3  \r\n",
      "joblib                    1.1.0              pyhd3eb1b0_0  \r\n",
      "jpeg                      9e                   hca72f7f_0  \r\n",
      "jsonschema                4.4.0            py38hecd8cb5_0  \r\n",
      "jupyter_client            7.3.1              pyhd8ed1ab_0    conda-forge\r\n",
      "jupyter_core              4.10.0           py38hecd8cb5_0  \r\n",
      "jupyterlab_pygments       0.1.2                      py_0  \r\n",
      "keras-preprocessing       1.1.2                    pypi_0    pypi\r\n",
      "keyring                   23.4.0           py38hecd8cb5_0  \r\n",
      "kiwisolver                1.4.2            py38he9d5cce_0  \r\n",
      "krb5                      1.19.2               hcd88c3b_0  \r\n",
      "lazy-object-proxy         1.6.0            py38h9ed2024_0  \r\n",
      "lcms2                     2.12                 hf1fd2bf_0  \r\n",
      "libblas                   3.9.0           14_osx64_openblas    conda-forge\r\n",
      "libcblas                  3.9.0           14_osx64_openblas    conda-forge\r\n",
      "libclang                  13.0.1          default_he082bbe_0    conda-forge\r\n",
      "libcxx                    14.0.4               hc203e6f_0    conda-forge\r\n",
      "libedit                   3.1.20210910         hca72f7f_0  \r\n",
      "libffi                    3.4.2                he9d5cce_2  \r\n",
      "libgfortran               5.0.0           11_2_0_h246ff09_26  \r\n",
      "libgfortran5              11.2.0              h246ff09_26  \r\n",
      "libglib                   2.70.2               hf1fb8c0_4    conda-forge\r\n",
      "libiconv                  1.16                 hca72f7f_2  \r\n",
      "liblapack                 3.9.0           14_osx64_openblas    conda-forge\r\n",
      "libllvm13                 13.0.1               h64f94b2_2    conda-forge\r\n",
      "libogg                    1.3.5                hca72f7f_1  \r\n",
      "libopenblas               0.3.20               h9a5756b_1  \r\n",
      "libopus                   1.3.1                h1de35cc_0  \r\n",
      "libpng                    1.6.37               ha441bb4_0  \r\n",
      "libpq                     14.2                 hea3049e_0    conda-forge\r\n",
      "libsodium                 1.0.18               h1de35cc_0  \r\n",
      "libspatialindex           1.9.3                h23ab428_0  \r\n",
      "libtiff                   4.2.0                hdb42f99_1  \r\n",
      "libvorbis                 1.3.7                haf1e3a3_0  \r\n",
      "libwebp                   1.2.2                h56c3ce4_0  \r\n",
      "libwebp-base              1.2.2                hca72f7f_0  \r\n",
      "libxgboost                1.5.1            cpu_h598c753_2    conda-forge\r\n",
      "libzlib                   1.2.12               h6c3fc93_0    conda-forge\r\n",
      "llvm-openmp               12.0.0               h0dcd299_1  \r\n",
      "lz4-c                     1.9.3                h23ab428_1  \r\n",
      "markdown                  3.3.7                    pypi_0    pypi\r\n",
      "markupsafe                2.0.1            py38h9ed2024_0  \r\n",
      "matplotlib                3.5.1            py38h50d1736_0    conda-forge\r\n",
      "matplotlib-base           3.5.1            py38hc7d2367_0    conda-forge\r\n",
      "matplotlib-inline         0.1.2              pyhd3eb1b0_2  \r\n",
      "mccabe                    0.6.1                    py38_1  \r\n",
      "mistune                   0.8.4           py38h1de35cc_1001  \r\n",
      "munkres                   1.1.4                      py_0  \r\n",
      "mypy_extensions           0.4.3            py38hecd8cb5_1  \r\n",
      "mysql-common              8.0.29               h924029e_1    conda-forge\r\n",
      "mysql-libs                8.0.29               h3cab752_1    conda-forge\r\n",
      "nbclient                  0.5.13           py38hecd8cb5_0  \r\n",
      "nbconvert                 6.4.4            py38hecd8cb5_0  \r\n",
      "nbformat                  5.3.0            py38hecd8cb5_0  \r\n",
      "ncurses                   6.3                  hca72f7f_2  \r\n",
      "nest-asyncio              1.5.5            py38hecd8cb5_0  \r\n",
      "notebook                  6.4.11           py38hecd8cb5_0  \r\n",
      "nspr                      4.33                 he9d5cce_0  \r\n",
      "nss                       3.74                 h47edf6a_0  \r\n",
      "numexpr                   2.8.0            py38ha53d530_1    conda-forge\r\n",
      "numpy                     1.19.2           py38ha98150c_1    conda-forge\r\n",
      "numpydoc                  1.2                pyhd3eb1b0_0  \r\n",
      "oauthlib                  3.2.0                    pypi_0    pypi\r\n",
      "openssl                   1.1.1o               hca72f7f_0  \r\n",
      "opt-einsum                3.3.0                    pypi_0    pypi\r\n",
      "packaging                 21.3               pyhd3eb1b0_0  \r\n",
      "pandas                    1.4.2            py38he9d5cce_0  \r\n",
      "pandocfilters             1.5.0              pyhd3eb1b0_0  \r\n",
      "parso                     0.8.3              pyhd3eb1b0_0  \r\n",
      "pathspec                  0.9.0              pyhd8ed1ab_0    conda-forge\r\n",
      "patsy                     0.5.2            py38hecd8cb5_1  \r\n",
      "pcre                      8.45                 h23ab428_0  \r\n",
      "pexpect                   4.8.0              pyhd3eb1b0_3  \r\n",
      "pickleshare               0.7.5           pyhd3eb1b0_1003  \r\n",
      "pillow                    9.0.1            py38hde71d04_0  \r\n",
      "pip                       22.1.1             pyhd8ed1ab_0    conda-forge\r\n",
      "platformdirs              2.4.0              pyhd3eb1b0_0  \r\n",
      "pluggy                    1.0.0            py38hecd8cb5_1  \r\n",
      "poyo                      0.5.0              pyhd3eb1b0_0  \r\n",
      "prometheus_client         0.13.1             pyhd3eb1b0_0  \r\n",
      "promise                   2.3                      pypi_0    pypi\r\n",
      "prompt-toolkit            3.0.20             pyhd3eb1b0_0  \r\n",
      "protobuf                  3.20.1                   pypi_0    pypi\r\n",
      "psutil                    5.8.0            py38h9ed2024_1  \r\n",
      "ptyprocess                0.7.0              pyhd3eb1b0_2  \r\n",
      "py-xgboost                1.5.1           cpu_py38he866dac_2    conda-forge\r\n",
      "pyasn1                    0.4.8                    pypi_0    pypi\r\n",
      "pyasn1-modules            0.2.8                    pypi_0    pypi\r\n",
      "pycodestyle               2.8.0              pyhd3eb1b0_0  \r\n",
      "pycparser                 2.21               pyhd3eb1b0_0  \r\n",
      "pydocstyle                6.1.1              pyhd3eb1b0_0  \r\n",
      "pydot                     1.4.2                    pypi_0    pypi\r\n",
      "pydot-ng                  2.0.0                    pypi_0    pypi\r\n",
      "pyflakes                  2.4.0              pyhd3eb1b0_0  \r\n",
      "pygments                  2.11.2             pyhd3eb1b0_0  \r\n",
      "pylint                    2.12.2           py38hecd8cb5_1  \r\n",
      "pyls-spyder               0.4.0              pyhd3eb1b0_0  \r\n",
      "pyopenssl                 22.0.0             pyhd3eb1b0_0  \r\n",
      "pyparsing                 3.0.4              pyhd3eb1b0_0  \r\n",
      "pyqt                      5.15.4           py38h44864d7_0    conda-forge\r\n",
      "pyqt5-sip                 12.9.0           py38h44864d7_0    conda-forge\r\n",
      "pyqtwebengine             5.15.4           py38h44864d7_0    conda-forge\r\n",
      "pyrsistent                0.18.0           py38hca72f7f_0  \r\n",
      "pysocks                   1.7.1                    py38_1  \r\n",
      "python                    3.8.13          h394c593_0_cpython    conda-forge\r\n",
      "python-dateutil           2.8.2              pyhd3eb1b0_0  \r\n",
      "python-fastjsonschema     2.15.1             pyhd3eb1b0_0  \r\n",
      "python-lsp-black          1.2.1              pyhd8ed1ab_0    conda-forge\r\n",
      "python-lsp-jsonrpc        1.0.0              pyhd3eb1b0_0  \r\n",
      "python-lsp-server         1.4.1              pyhd8ed1ab_1    conda-forge\r\n",
      "python-slugify            5.0.2              pyhd3eb1b0_0  \r\n",
      "python.app                3                py38hca72f7f_0  \r\n",
      "python_abi                3.8                      2_cp38    conda-forge\r\n",
      "pytz                      2021.3             pyhd3eb1b0_0  \r\n",
      "pyyaml                    6.0              py38hca72f7f_1  \r\n",
      "pyzmq                     22.3.0           py38he9d5cce_2  \r\n",
      "qdarkstyle                3.0.2              pyhd3eb1b0_0  \r\n",
      "qstylizer                 0.1.10             pyhd3eb1b0_0  \r\n",
      "qt-main                   5.15.2               h8f7a3c3_2    conda-forge\r\n",
      "qt-webengine              5.15.4               h3a3182f_1    conda-forge\r\n",
      "qtawesome                 1.0.3              pyhd3eb1b0_0  \r\n",
      "qtconsole                 5.3.0              pyhd3eb1b0_0  \r\n",
      "qtpy                      2.0.1              pyhd3eb1b0_0  \r\n",
      "readline                  8.1.2                hca72f7f_1  \r\n",
      "requests                  2.27.1             pyhd8ed1ab_0    conda-forge\r\n",
      "requests-oauthlib         1.3.1                    pypi_0    pypi\r\n",
      "rope                      0.22.0             pyhd3eb1b0_0  \r\n",
      "rsa                       4.8                      pypi_0    pypi\r\n",
      "rtree                     0.9.7            py38hecd8cb5_1  \r\n",
      "scikit-learn              1.0.2            py38h37f3bb3_0    conda-forge\r\n",
      "scipy                     1.7.3            py38hd329d04_0    conda-forge\r\n",
      "seaborn                   0.11.2               hd8ed1ab_0    conda-forge\r\n",
      "seaborn-base              0.11.2             pyhd8ed1ab_0    conda-forge\r\n",
      "send2trash                1.8.0              pyhd3eb1b0_1  \r\n",
      "setuptools                61.2.0           py38hecd8cb5_0  \r\n",
      "sip                       6.5.1            py38he9d5cce_0  \r\n",
      "six                       1.15.0                   pypi_0    pypi\r\n",
      "smart_open                5.2.1            py38hecd8cb5_0  \r\n",
      "snowballstemmer           2.2.0              pyhd3eb1b0_0  \r\n",
      "sortedcontainers          2.4.0              pyhd3eb1b0_0  \r\n",
      "soupsieve                 2.3.1              pyhd3eb1b0_0  \r\n",
      "sphinx                    4.4.0              pyhd3eb1b0_0  \r\n",
      "sphinxcontrib-applehelp   1.0.2              pyhd3eb1b0_0  \r\n",
      "sphinxcontrib-devhelp     1.0.2              pyhd3eb1b0_0  \r\n",
      "sphinxcontrib-htmlhelp    2.0.0              pyhd3eb1b0_0  \r\n",
      "sphinxcontrib-jsmath      1.0.1              pyhd3eb1b0_0  \r\n",
      "sphinxcontrib-qthelp      1.0.3              pyhd3eb1b0_0  \r\n",
      "sphinxcontrib-serializinghtml 1.1.5              pyhd3eb1b0_0  \r\n",
      "spotipy                   2.19.0                   pypi_0    pypi\r\n",
      "spyder                    5.3.0            py38h50d1736_0    conda-forge\r\n",
      "spyder-kernels            2.3.1            py38h50d1736_0    conda-forge\r\n",
      "sqlite                    3.38.3               h707629a_0  \r\n",
      "statsmodels               0.13.2           py38hbe852b5_0    conda-forge\r\n",
      "tensorboard               2.9.0                    pypi_0    pypi\r\n",
      "tensorboard-data-server   0.6.1                    pypi_0    pypi\r\n",
      "tensorboard-plugin-wit    1.8.1                    pypi_0    pypi\r\n",
      "tensorflow                2.4.1                    pypi_0    pypi\r\n",
      "tensorflow-datasets       4.6.0                    pypi_0    pypi\r\n",
      "tensorflow-estimator      2.4.0                    pypi_0    pypi\r\n",
      "tensorflow-metadata       1.8.0                    pypi_0    pypi\r\n",
      "termcolor                 1.1.0                    pypi_0    pypi\r\n",
      "terminado                 0.13.1           py38hecd8cb5_0  \r\n",
      "testpath                  0.5.0              pyhd3eb1b0_0  \r\n",
      "text-unidecode            1.3                pyhd3eb1b0_0  \r\n",
      "textdistance              4.2.1              pyhd3eb1b0_0  \r\n",
      "threadpoolctl             2.2.0              pyh0d69192_0  \r\n",
      "three-merge               0.1.1              pyhd3eb1b0_0  \r\n",
      "tinycss                   0.4             pyhd3eb1b0_1002  \r\n",
      "tk                        8.6.12               h5d9f67b_0  \r\n",
      "toml                      0.10.2             pyhd3eb1b0_0  \r\n",
      "tomli                     1.2.2              pyhd3eb1b0_0  \r\n",
      "tornado                   6.1              py38h9ed2024_0  \r\n",
      "tqdm                      4.64.0                   pypi_0    pypi\r\n",
      "traitlets                 5.1.1              pyhd3eb1b0_0  \r\n",
      "typed-ast                 1.4.3            py38h9ed2024_1  \r\n",
      "typing-extensions         3.7.4                    pypi_0    pypi\r\n",
      "typing_extensions         4.1.1              pyh06a4308_0  \r\n",
      "ujson                     5.1.0            py38he9d5cce_0  \r\n",
      "unidecode                 1.2.0              pyhd3eb1b0_0  \r\n",
      "uritemplate               4.1.1                    pypi_0    pypi\r\n",
      "urllib3                   1.26.9           py38hecd8cb5_0  \r\n",
      "watchdog                  2.1.6            py38h999c104_0  \r\n",
      "wcwidth                   0.2.5              pyhd3eb1b0_0  \r\n",
      "webencodings              0.5.1                    py38_1  \r\n",
      "werkzeug                  2.1.2                    pypi_0    pypi\r\n",
      "wheel                     0.37.1             pyhd8ed1ab_0    conda-forge\r\n",
      "wrapt                     1.12.1                   pypi_0    pypi\r\n",
      "wurlitzer                 3.0.2            py38hecd8cb5_0  \r\n",
      "xgboost                   1.5.1           cpu_py38h39ba569_2    conda-forge\r\n",
      "xz                        5.2.5                hca72f7f_1  \r\n",
      "yaml                      0.2.5                haf1e3a3_0  \r\n",
      "yapf                      0.31.0             pyhd3eb1b0_0  \r\n",
      "zeromq                    4.3.4                h23ab428_0  \r\n",
      "zipp                      3.8.0            py38hecd8cb5_0  \r\n",
      "zlib                      1.2.12               h6c3fc93_0    conda-forge\r\n",
      "zstd                      1.5.2                hcb37349_0  \r\n"
     ]
    },
    {
     "name": "stdout",
     "output_type": "stream",
     "text": [
      "\n",
      "Note: you may need to restart the kernel to use updated packages.\n"
     ]
    }
   ],
   "source": [
    "conda list"
   ]
  },
  {
   "cell_type": "code",
   "execution_count": 24,
   "id": "60f8764d",
   "metadata": {},
   "outputs": [
    {
     "ename": "AttributeError",
     "evalue": "'DataFrame' object has no attribute '_data'",
     "output_type": "error",
     "traceback": [
      "\u001b[0;31m---------------------------------------------------------------------------\u001b[0m",
      "\u001b[0;31mAttributeError\u001b[0m                            Traceback (most recent call last)",
      "\u001b[0;32m/var/folders/vc/d1b_km4x7wb1xy8mb31ms7g00000gp/T/ipykernel_23299/2253599068.py\u001b[0m in \u001b[0;36m<module>\u001b[0;34m\u001b[0m\n\u001b[0;32m----> 1\u001b[0;31m \u001b[0mlen\u001b[0m\u001b[0;34m(\u001b[0m\u001b[0munpickled_df\u001b[0m\u001b[0;34m)\u001b[0m\u001b[0;34m\u001b[0m\u001b[0;34m\u001b[0m\u001b[0m\n\u001b[0m",
      "\u001b[0;32m~/opt/miniconda3/envs/deep_learning/lib/python3.8/site-packages/pandas/core/frame.py\u001b[0m in \u001b[0;36m__len__\u001b[0;34m(self)\u001b[0m\n\u001b[1;32m   1039\u001b[0m                 \u001b[0mfloat_format\u001b[0m\u001b[0;34m=\u001b[0m\u001b[0;32mNone\u001b[0m\u001b[0;34m,\u001b[0m\u001b[0;34m\u001b[0m\u001b[0;34m\u001b[0m\u001b[0m\n\u001b[1;32m   1040\u001b[0m                 \u001b[0msparsify\u001b[0m\u001b[0;34m=\u001b[0m\u001b[0;32mNone\u001b[0m\u001b[0;34m,\u001b[0m\u001b[0;34m\u001b[0m\u001b[0;34m\u001b[0m\u001b[0m\n\u001b[0;32m-> 1041\u001b[0;31m                 \u001b[0mjustify\u001b[0m\u001b[0;34m=\u001b[0m\u001b[0;32mNone\u001b[0m\u001b[0;34m,\u001b[0m\u001b[0;34m\u001b[0m\u001b[0;34m\u001b[0m\u001b[0m\n\u001b[0m\u001b[1;32m   1042\u001b[0m                 \u001b[0mindex_names\u001b[0m\u001b[0;34m=\u001b[0m\u001b[0;32mTrue\u001b[0m\u001b[0;34m,\u001b[0m\u001b[0;34m\u001b[0m\u001b[0;34m\u001b[0m\u001b[0m\n\u001b[1;32m   1043\u001b[0m                 \u001b[0mheader\u001b[0m\u001b[0;34m=\u001b[0m\u001b[0;32mTrue\u001b[0m\u001b[0;34m,\u001b[0m\u001b[0;34m\u001b[0m\u001b[0;34m\u001b[0m\u001b[0m\n",
      "\u001b[0;32m~/opt/miniconda3/envs/deep_learning/lib/python3.8/site-packages/pandas/core/generic.py\u001b[0m in \u001b[0;36m__getattr__\u001b[0;34m(self, name)\u001b[0m\n\u001b[1;32m   5268\u001b[0m         \u001b[0;34m>>\u001b[0m\u001b[0;34m>\u001b[0m \u001b[0mdf\u001b[0m\u001b[0;34m.\u001b[0m\u001b[0mtail\u001b[0m\u001b[0;34m(\u001b[0m\u001b[0;34m)\u001b[0m\u001b[0;34m\u001b[0m\u001b[0;34m\u001b[0m\u001b[0m\n\u001b[1;32m   5269\u001b[0m            \u001b[0manimal\u001b[0m\u001b[0;34m\u001b[0m\u001b[0;34m\u001b[0m\u001b[0m\n\u001b[0;32m-> 5270\u001b[0;31m         \u001b[0;36m4\u001b[0m  \u001b[0mmonkey\u001b[0m\u001b[0;34m\u001b[0m\u001b[0;34m\u001b[0m\u001b[0m\n\u001b[0m\u001b[1;32m   5271\u001b[0m         \u001b[0;36m5\u001b[0m  \u001b[0mparrot\u001b[0m\u001b[0;34m\u001b[0m\u001b[0;34m\u001b[0m\u001b[0m\n\u001b[1;32m   5272\u001b[0m         \u001b[0;36m6\u001b[0m   \u001b[0mshark\u001b[0m\u001b[0;34m\u001b[0m\u001b[0;34m\u001b[0m\u001b[0m\n",
      "\u001b[0;32m~/opt/miniconda3/envs/deep_learning/lib/python3.8/site-packages/pandas/_libs/properties.pyx\u001b[0m in \u001b[0;36mpandas._libs.properties.AxisProperty.__get__\u001b[0;34m()\u001b[0m\n",
      "\u001b[0;32m~/opt/miniconda3/envs/deep_learning/lib/python3.8/site-packages/pandas/core/generic.py\u001b[0m in \u001b[0;36m__getattr__\u001b[0;34m(self, name)\u001b[0m\n\u001b[1;32m   5268\u001b[0m         \u001b[0;34m>>\u001b[0m\u001b[0;34m>\u001b[0m \u001b[0mdf\u001b[0m\u001b[0;34m.\u001b[0m\u001b[0mtail\u001b[0m\u001b[0;34m(\u001b[0m\u001b[0;34m)\u001b[0m\u001b[0;34m\u001b[0m\u001b[0;34m\u001b[0m\u001b[0m\n\u001b[1;32m   5269\u001b[0m            \u001b[0manimal\u001b[0m\u001b[0;34m\u001b[0m\u001b[0;34m\u001b[0m\u001b[0m\n\u001b[0;32m-> 5270\u001b[0;31m         \u001b[0;36m4\u001b[0m  \u001b[0mmonkey\u001b[0m\u001b[0;34m\u001b[0m\u001b[0;34m\u001b[0m\u001b[0m\n\u001b[0m\u001b[1;32m   5271\u001b[0m         \u001b[0;36m5\u001b[0m  \u001b[0mparrot\u001b[0m\u001b[0;34m\u001b[0m\u001b[0;34m\u001b[0m\u001b[0m\n\u001b[1;32m   5272\u001b[0m         \u001b[0;36m6\u001b[0m   \u001b[0mshark\u001b[0m\u001b[0;34m\u001b[0m\u001b[0;34m\u001b[0m\u001b[0m\n",
      "\u001b[0;31mAttributeError\u001b[0m: 'DataFrame' object has no attribute '_data'"
     ]
    }
   ],
   "source": [
    "len(unpickled_df)"
   ]
  },
  {
   "cell_type": "code",
   "execution_count": 13,
   "id": "68fb1f99",
   "metadata": {},
   "outputs": [
    {
     "ename": "AttributeError",
     "evalue": "'DataFrame' object has no attribute '_data'",
     "output_type": "error",
     "traceback": [
      "\u001b[0;31m---------------------------------------------------------------------------\u001b[0m",
      "\u001b[0;31mAttributeError\u001b[0m                            Traceback (most recent call last)",
      "\u001b[0;32m~/opt/miniconda3/envs/deep_learning/lib/python3.8/site-packages/IPython/core/formatters.py\u001b[0m in \u001b[0;36m__call__\u001b[0;34m(self, obj)\u001b[0m\n\u001b[1;32m    700\u001b[0m                 \u001b[0mtype_pprinters\u001b[0m\u001b[0;34m=\u001b[0m\u001b[0mself\u001b[0m\u001b[0;34m.\u001b[0m\u001b[0mtype_printers\u001b[0m\u001b[0;34m,\u001b[0m\u001b[0;34m\u001b[0m\u001b[0;34m\u001b[0m\u001b[0m\n\u001b[1;32m    701\u001b[0m                 deferred_pprinters=self.deferred_printers)\n\u001b[0;32m--> 702\u001b[0;31m             \u001b[0mprinter\u001b[0m\u001b[0;34m.\u001b[0m\u001b[0mpretty\u001b[0m\u001b[0;34m(\u001b[0m\u001b[0mobj\u001b[0m\u001b[0;34m)\u001b[0m\u001b[0;34m\u001b[0m\u001b[0;34m\u001b[0m\u001b[0m\n\u001b[0m\u001b[1;32m    703\u001b[0m             \u001b[0mprinter\u001b[0m\u001b[0;34m.\u001b[0m\u001b[0mflush\u001b[0m\u001b[0;34m(\u001b[0m\u001b[0;34m)\u001b[0m\u001b[0;34m\u001b[0m\u001b[0;34m\u001b[0m\u001b[0m\n\u001b[1;32m    704\u001b[0m             \u001b[0;32mreturn\u001b[0m \u001b[0mstream\u001b[0m\u001b[0;34m.\u001b[0m\u001b[0mgetvalue\u001b[0m\u001b[0;34m(\u001b[0m\u001b[0;34m)\u001b[0m\u001b[0;34m\u001b[0m\u001b[0;34m\u001b[0m\u001b[0m\n",
      "\u001b[0;32m~/opt/miniconda3/envs/deep_learning/lib/python3.8/site-packages/IPython/lib/pretty.py\u001b[0m in \u001b[0;36mpretty\u001b[0;34m(self, obj)\u001b[0m\n\u001b[1;32m    392\u001b[0m                         \u001b[0;32mif\u001b[0m \u001b[0mcls\u001b[0m \u001b[0;32mis\u001b[0m \u001b[0;32mnot\u001b[0m \u001b[0mobject\u001b[0m\u001b[0;31m \u001b[0m\u001b[0;31m\\\u001b[0m\u001b[0;34m\u001b[0m\u001b[0;34m\u001b[0m\u001b[0m\n\u001b[1;32m    393\u001b[0m                                 \u001b[0;32mand\u001b[0m \u001b[0mcallable\u001b[0m\u001b[0;34m(\u001b[0m\u001b[0mcls\u001b[0m\u001b[0;34m.\u001b[0m\u001b[0m__dict__\u001b[0m\u001b[0;34m.\u001b[0m\u001b[0mget\u001b[0m\u001b[0;34m(\u001b[0m\u001b[0;34m'__repr__'\u001b[0m\u001b[0;34m)\u001b[0m\u001b[0;34m)\u001b[0m\u001b[0;34m:\u001b[0m\u001b[0;34m\u001b[0m\u001b[0;34m\u001b[0m\u001b[0m\n\u001b[0;32m--> 394\u001b[0;31m                             \u001b[0;32mreturn\u001b[0m \u001b[0m_repr_pprint\u001b[0m\u001b[0;34m(\u001b[0m\u001b[0mobj\u001b[0m\u001b[0;34m,\u001b[0m \u001b[0mself\u001b[0m\u001b[0;34m,\u001b[0m \u001b[0mcycle\u001b[0m\u001b[0;34m)\u001b[0m\u001b[0;34m\u001b[0m\u001b[0;34m\u001b[0m\u001b[0m\n\u001b[0m\u001b[1;32m    395\u001b[0m \u001b[0;34m\u001b[0m\u001b[0m\n\u001b[1;32m    396\u001b[0m             \u001b[0;32mreturn\u001b[0m \u001b[0m_default_pprint\u001b[0m\u001b[0;34m(\u001b[0m\u001b[0mobj\u001b[0m\u001b[0;34m,\u001b[0m \u001b[0mself\u001b[0m\u001b[0;34m,\u001b[0m \u001b[0mcycle\u001b[0m\u001b[0;34m)\u001b[0m\u001b[0;34m\u001b[0m\u001b[0;34m\u001b[0m\u001b[0m\n",
      "\u001b[0;32m~/opt/miniconda3/envs/deep_learning/lib/python3.8/site-packages/IPython/lib/pretty.py\u001b[0m in \u001b[0;36m_repr_pprint\u001b[0;34m(obj, p, cycle)\u001b[0m\n\u001b[1;32m    698\u001b[0m     \u001b[0;34m\"\"\"A pprint that just redirects to the normal repr function.\"\"\"\u001b[0m\u001b[0;34m\u001b[0m\u001b[0;34m\u001b[0m\u001b[0m\n\u001b[1;32m    699\u001b[0m     \u001b[0;31m# Find newlines and replace them with p.break_()\u001b[0m\u001b[0;34m\u001b[0m\u001b[0;34m\u001b[0m\u001b[0;34m\u001b[0m\u001b[0m\n\u001b[0;32m--> 700\u001b[0;31m     \u001b[0moutput\u001b[0m \u001b[0;34m=\u001b[0m \u001b[0mrepr\u001b[0m\u001b[0;34m(\u001b[0m\u001b[0mobj\u001b[0m\u001b[0;34m)\u001b[0m\u001b[0;34m\u001b[0m\u001b[0;34m\u001b[0m\u001b[0m\n\u001b[0m\u001b[1;32m    701\u001b[0m     \u001b[0mlines\u001b[0m \u001b[0;34m=\u001b[0m \u001b[0moutput\u001b[0m\u001b[0;34m.\u001b[0m\u001b[0msplitlines\u001b[0m\u001b[0;34m(\u001b[0m\u001b[0;34m)\u001b[0m\u001b[0;34m\u001b[0m\u001b[0;34m\u001b[0m\u001b[0m\n\u001b[1;32m    702\u001b[0m     \u001b[0;32mwith\u001b[0m \u001b[0mp\u001b[0m\u001b[0;34m.\u001b[0m\u001b[0mgroup\u001b[0m\u001b[0;34m(\u001b[0m\u001b[0;34m)\u001b[0m\u001b[0;34m:\u001b[0m\u001b[0;34m\u001b[0m\u001b[0;34m\u001b[0m\u001b[0m\n",
      "\u001b[0;32m~/opt/miniconda3/envs/deep_learning/lib/python3.8/site-packages/pandas/core/frame.py\u001b[0m in \u001b[0;36m__repr__\u001b[0;34m(self)\u001b[0m\n\u001b[1;32m    678\u001b[0m                     \u001b[0mdtype\u001b[0m\u001b[0;34m,\u001b[0m\u001b[0;34m\u001b[0m\u001b[0;34m\u001b[0m\u001b[0m\n\u001b[1;32m    679\u001b[0m                     \u001b[0mcopy\u001b[0m\u001b[0;34m,\u001b[0m\u001b[0;34m\u001b[0m\u001b[0;34m\u001b[0m\u001b[0m\n\u001b[0;32m--> 680\u001b[0;31m                     \u001b[0mtyp\u001b[0m\u001b[0;34m=\u001b[0m\u001b[0mmanager\u001b[0m\u001b[0;34m,\u001b[0m\u001b[0;34m\u001b[0m\u001b[0;34m\u001b[0m\u001b[0m\n\u001b[0m\u001b[1;32m    681\u001b[0m                 )\n\u001b[1;32m    682\u001b[0m             \u001b[0;32melif\u001b[0m \u001b[0mgetattr\u001b[0m\u001b[0;34m(\u001b[0m\u001b[0mdata\u001b[0m\u001b[0;34m,\u001b[0m \u001b[0;34m\"name\"\u001b[0m\u001b[0;34m,\u001b[0m \u001b[0;32mNone\u001b[0m\u001b[0;34m)\u001b[0m \u001b[0;32mis\u001b[0m \u001b[0;32mnot\u001b[0m \u001b[0;32mNone\u001b[0m\u001b[0;34m:\u001b[0m\u001b[0;34m\u001b[0m\u001b[0;34m\u001b[0m\u001b[0m\n",
      "\u001b[0;32m~/opt/miniconda3/envs/deep_learning/lib/python3.8/site-packages/pandas/core/frame.py\u001b[0m in \u001b[0;36mto_string\u001b[0;34m(self, buf, columns, col_space, header, index, na_rep, formatters, float_format, sparsify, index_names, justify, max_rows, min_rows, max_cols, show_dimensions, decimal, line_width, max_colwidth, encoding)\u001b[0m\n\u001b[1;32m    799\u001b[0m \u001b[0;34m\u001b[0m\u001b[0m\n\u001b[1;32m    800\u001b[0m         \u001b[0mNDFrame\u001b[0m\u001b[0;34m.\u001b[0m\u001b[0m__init__\u001b[0m\u001b[0;34m(\u001b[0m\u001b[0mself\u001b[0m\u001b[0;34m,\u001b[0m \u001b[0mmgr\u001b[0m\u001b[0;34m)\u001b[0m\u001b[0;34m\u001b[0m\u001b[0;34m\u001b[0m\u001b[0m\n\u001b[0;32m--> 801\u001b[0;31m \u001b[0;34m\u001b[0m\u001b[0m\n\u001b[0m\u001b[1;32m    802\u001b[0m     \u001b[0;31m# ----------------------------------------------------------------------\u001b[0m\u001b[0;34m\u001b[0m\u001b[0;34m\u001b[0m\u001b[0;34m\u001b[0m\u001b[0m\n\u001b[1;32m    803\u001b[0m \u001b[0;34m\u001b[0m\u001b[0m\n",
      "\u001b[0;32m~/opt/miniconda3/envs/deep_learning/lib/python3.8/site-packages/pandas/io/formats/format.py\u001b[0m in \u001b[0;36m__init__\u001b[0;34m(self, frame, columns, col_space, header, index, na_rep, formatters, justify, float_format, sparsify, index_names, line_width, max_rows, min_rows, max_cols, show_dimensions, decimal, table_id, render_links, bold_rows, escape)\u001b[0m\n\u001b[1;32m    591\u001b[0m         \u001b[0mself\u001b[0m\u001b[0;34m.\u001b[0m\u001b[0mshow_index_names\u001b[0m \u001b[0;34m=\u001b[0m \u001b[0mindex_names\u001b[0m\u001b[0;34m\u001b[0m\u001b[0;34m\u001b[0m\u001b[0m\n\u001b[1;32m    592\u001b[0m         \u001b[0mself\u001b[0m\u001b[0;34m.\u001b[0m\u001b[0mdecimal\u001b[0m \u001b[0;34m=\u001b[0m \u001b[0mdecimal\u001b[0m\u001b[0;34m\u001b[0m\u001b[0;34m\u001b[0m\u001b[0m\n\u001b[0;32m--> 593\u001b[0;31m         \u001b[0mself\u001b[0m\u001b[0;34m.\u001b[0m\u001b[0mbold_rows\u001b[0m \u001b[0;34m=\u001b[0m \u001b[0mbold_rows\u001b[0m\u001b[0;34m\u001b[0m\u001b[0;34m\u001b[0m\u001b[0m\n\u001b[0m\u001b[1;32m    594\u001b[0m         \u001b[0mself\u001b[0m\u001b[0;34m.\u001b[0m\u001b[0mescape\u001b[0m \u001b[0;34m=\u001b[0m \u001b[0mescape\u001b[0m\u001b[0;34m\u001b[0m\u001b[0;34m\u001b[0m\u001b[0m\n\u001b[1;32m    595\u001b[0m         \u001b[0mself\u001b[0m\u001b[0;34m.\u001b[0m\u001b[0mmax_rows\u001b[0m \u001b[0;34m=\u001b[0m \u001b[0mmax_rows\u001b[0m\u001b[0;34m\u001b[0m\u001b[0;34m\u001b[0m\u001b[0m\n",
      "\u001b[0;32m~/opt/miniconda3/envs/deep_learning/lib/python3.8/site-packages/pandas/core/frame.py\u001b[0m in \u001b[0;36m__len__\u001b[0;34m(self)\u001b[0m\n\u001b[1;32m   1039\u001b[0m                 \u001b[0mfloat_format\u001b[0m\u001b[0;34m=\u001b[0m\u001b[0;32mNone\u001b[0m\u001b[0;34m,\u001b[0m\u001b[0;34m\u001b[0m\u001b[0;34m\u001b[0m\u001b[0m\n\u001b[1;32m   1040\u001b[0m                 \u001b[0msparsify\u001b[0m\u001b[0;34m=\u001b[0m\u001b[0;32mNone\u001b[0m\u001b[0;34m,\u001b[0m\u001b[0;34m\u001b[0m\u001b[0;34m\u001b[0m\u001b[0m\n\u001b[0;32m-> 1041\u001b[0;31m                 \u001b[0mjustify\u001b[0m\u001b[0;34m=\u001b[0m\u001b[0;32mNone\u001b[0m\u001b[0;34m,\u001b[0m\u001b[0;34m\u001b[0m\u001b[0;34m\u001b[0m\u001b[0m\n\u001b[0m\u001b[1;32m   1042\u001b[0m                 \u001b[0mindex_names\u001b[0m\u001b[0;34m=\u001b[0m\u001b[0;32mTrue\u001b[0m\u001b[0;34m,\u001b[0m\u001b[0;34m\u001b[0m\u001b[0;34m\u001b[0m\u001b[0m\n\u001b[1;32m   1043\u001b[0m                 \u001b[0mheader\u001b[0m\u001b[0;34m=\u001b[0m\u001b[0;32mTrue\u001b[0m\u001b[0;34m,\u001b[0m\u001b[0;34m\u001b[0m\u001b[0;34m\u001b[0m\u001b[0m\n",
      "\u001b[0;32m~/opt/miniconda3/envs/deep_learning/lib/python3.8/site-packages/pandas/core/generic.py\u001b[0m in \u001b[0;36m__getattr__\u001b[0;34m(self, name)\u001b[0m\n\u001b[1;32m   5268\u001b[0m         \u001b[0;34m>>\u001b[0m\u001b[0;34m>\u001b[0m \u001b[0mdf\u001b[0m\u001b[0;34m.\u001b[0m\u001b[0mtail\u001b[0m\u001b[0;34m(\u001b[0m\u001b[0;34m)\u001b[0m\u001b[0;34m\u001b[0m\u001b[0;34m\u001b[0m\u001b[0m\n\u001b[1;32m   5269\u001b[0m            \u001b[0manimal\u001b[0m\u001b[0;34m\u001b[0m\u001b[0;34m\u001b[0m\u001b[0m\n\u001b[0;32m-> 5270\u001b[0;31m         \u001b[0;36m4\u001b[0m  \u001b[0mmonkey\u001b[0m\u001b[0;34m\u001b[0m\u001b[0;34m\u001b[0m\u001b[0m\n\u001b[0m\u001b[1;32m   5271\u001b[0m         \u001b[0;36m5\u001b[0m  \u001b[0mparrot\u001b[0m\u001b[0;34m\u001b[0m\u001b[0;34m\u001b[0m\u001b[0m\n\u001b[1;32m   5272\u001b[0m         \u001b[0;36m6\u001b[0m   \u001b[0mshark\u001b[0m\u001b[0;34m\u001b[0m\u001b[0;34m\u001b[0m\u001b[0m\n",
      "\u001b[0;32m~/opt/miniconda3/envs/deep_learning/lib/python3.8/site-packages/pandas/_libs/properties.pyx\u001b[0m in \u001b[0;36mpandas._libs.properties.AxisProperty.__get__\u001b[0;34m()\u001b[0m\n",
      "\u001b[0;32m~/opt/miniconda3/envs/deep_learning/lib/python3.8/site-packages/pandas/core/generic.py\u001b[0m in \u001b[0;36m__getattr__\u001b[0;34m(self, name)\u001b[0m\n\u001b[1;32m   5268\u001b[0m         \u001b[0;34m>>\u001b[0m\u001b[0;34m>\u001b[0m \u001b[0mdf\u001b[0m\u001b[0;34m.\u001b[0m\u001b[0mtail\u001b[0m\u001b[0;34m(\u001b[0m\u001b[0;34m)\u001b[0m\u001b[0;34m\u001b[0m\u001b[0;34m\u001b[0m\u001b[0m\n\u001b[1;32m   5269\u001b[0m            \u001b[0manimal\u001b[0m\u001b[0;34m\u001b[0m\u001b[0;34m\u001b[0m\u001b[0m\n\u001b[0;32m-> 5270\u001b[0;31m         \u001b[0;36m4\u001b[0m  \u001b[0mmonkey\u001b[0m\u001b[0;34m\u001b[0m\u001b[0;34m\u001b[0m\u001b[0m\n\u001b[0m\u001b[1;32m   5271\u001b[0m         \u001b[0;36m5\u001b[0m  \u001b[0mparrot\u001b[0m\u001b[0;34m\u001b[0m\u001b[0;34m\u001b[0m\u001b[0m\n\u001b[1;32m   5272\u001b[0m         \u001b[0;36m6\u001b[0m   \u001b[0mshark\u001b[0m\u001b[0;34m\u001b[0m\u001b[0;34m\u001b[0m\u001b[0m\n",
      "\u001b[0;31mAttributeError\u001b[0m: 'DataFrame' object has no attribute '_data'"
     ]
    }
   ],
   "source": [
    "unpickled_df"
   ]
  },
  {
   "cell_type": "code",
   "execution_count": 14,
   "id": "96cc88f5",
   "metadata": {},
   "outputs": [
    {
     "ename": "AttributeError",
     "evalue": "'DataFrame' object has no attribute '_data'",
     "output_type": "error",
     "traceback": [
      "\u001b[0;31m---------------------------------------------------------------------------\u001b[0m",
      "\u001b[0;31mAttributeError\u001b[0m                            Traceback (most recent call last)",
      "\u001b[0;32m~/opt/miniconda3/envs/deep_learning/lib/python3.8/site-packages/IPython/core/formatters.py\u001b[0m in \u001b[0;36m__call__\u001b[0;34m(self, obj)\u001b[0m\n\u001b[1;32m    700\u001b[0m                 \u001b[0mtype_pprinters\u001b[0m\u001b[0;34m=\u001b[0m\u001b[0mself\u001b[0m\u001b[0;34m.\u001b[0m\u001b[0mtype_printers\u001b[0m\u001b[0;34m,\u001b[0m\u001b[0;34m\u001b[0m\u001b[0;34m\u001b[0m\u001b[0m\n\u001b[1;32m    701\u001b[0m                 deferred_pprinters=self.deferred_printers)\n\u001b[0;32m--> 702\u001b[0;31m             \u001b[0mprinter\u001b[0m\u001b[0;34m.\u001b[0m\u001b[0mpretty\u001b[0m\u001b[0;34m(\u001b[0m\u001b[0mobj\u001b[0m\u001b[0;34m)\u001b[0m\u001b[0;34m\u001b[0m\u001b[0;34m\u001b[0m\u001b[0m\n\u001b[0m\u001b[1;32m    703\u001b[0m             \u001b[0mprinter\u001b[0m\u001b[0;34m.\u001b[0m\u001b[0mflush\u001b[0m\u001b[0;34m(\u001b[0m\u001b[0;34m)\u001b[0m\u001b[0;34m\u001b[0m\u001b[0;34m\u001b[0m\u001b[0m\n\u001b[1;32m    704\u001b[0m             \u001b[0;32mreturn\u001b[0m \u001b[0mstream\u001b[0m\u001b[0;34m.\u001b[0m\u001b[0mgetvalue\u001b[0m\u001b[0;34m(\u001b[0m\u001b[0;34m)\u001b[0m\u001b[0;34m\u001b[0m\u001b[0;34m\u001b[0m\u001b[0m\n",
      "\u001b[0;32m~/opt/miniconda3/envs/deep_learning/lib/python3.8/site-packages/IPython/lib/pretty.py\u001b[0m in \u001b[0;36mpretty\u001b[0;34m(self, obj)\u001b[0m\n\u001b[1;32m    375\u001b[0m                 \u001b[0;32mif\u001b[0m \u001b[0mcls\u001b[0m \u001b[0;32min\u001b[0m \u001b[0mself\u001b[0m\u001b[0;34m.\u001b[0m\u001b[0mtype_pprinters\u001b[0m\u001b[0;34m:\u001b[0m\u001b[0;34m\u001b[0m\u001b[0;34m\u001b[0m\u001b[0m\n\u001b[1;32m    376\u001b[0m                     \u001b[0;31m# printer registered in self.type_pprinters\u001b[0m\u001b[0;34m\u001b[0m\u001b[0;34m\u001b[0m\u001b[0;34m\u001b[0m\u001b[0m\n\u001b[0;32m--> 377\u001b[0;31m                     \u001b[0;32mreturn\u001b[0m \u001b[0mself\u001b[0m\u001b[0;34m.\u001b[0m\u001b[0mtype_pprinters\u001b[0m\u001b[0;34m[\u001b[0m\u001b[0mcls\u001b[0m\u001b[0;34m]\u001b[0m\u001b[0;34m(\u001b[0m\u001b[0mobj\u001b[0m\u001b[0;34m,\u001b[0m \u001b[0mself\u001b[0m\u001b[0;34m,\u001b[0m \u001b[0mcycle\u001b[0m\u001b[0;34m)\u001b[0m\u001b[0;34m\u001b[0m\u001b[0;34m\u001b[0m\u001b[0m\n\u001b[0m\u001b[1;32m    378\u001b[0m                 \u001b[0;32melse\u001b[0m\u001b[0;34m:\u001b[0m\u001b[0;34m\u001b[0m\u001b[0;34m\u001b[0m\u001b[0m\n\u001b[1;32m    379\u001b[0m                     \u001b[0;31m# deferred printer\u001b[0m\u001b[0;34m\u001b[0m\u001b[0;34m\u001b[0m\u001b[0;34m\u001b[0m\u001b[0m\n",
      "\u001b[0;32m~/opt/miniconda3/envs/deep_learning/lib/python3.8/site-packages/IPython/lib/pretty.py\u001b[0m in \u001b[0;36m_repr_pprint\u001b[0;34m(obj, p, cycle)\u001b[0m\n\u001b[1;32m    698\u001b[0m     \u001b[0;34m\"\"\"A pprint that just redirects to the normal repr function.\"\"\"\u001b[0m\u001b[0;34m\u001b[0m\u001b[0;34m\u001b[0m\u001b[0m\n\u001b[1;32m    699\u001b[0m     \u001b[0;31m# Find newlines and replace them with p.break_()\u001b[0m\u001b[0;34m\u001b[0m\u001b[0;34m\u001b[0m\u001b[0;34m\u001b[0m\u001b[0m\n\u001b[0;32m--> 700\u001b[0;31m     \u001b[0moutput\u001b[0m \u001b[0;34m=\u001b[0m \u001b[0mrepr\u001b[0m\u001b[0;34m(\u001b[0m\u001b[0mobj\u001b[0m\u001b[0;34m)\u001b[0m\u001b[0;34m\u001b[0m\u001b[0;34m\u001b[0m\u001b[0m\n\u001b[0m\u001b[1;32m    701\u001b[0m     \u001b[0mlines\u001b[0m \u001b[0;34m=\u001b[0m \u001b[0moutput\u001b[0m\u001b[0;34m.\u001b[0m\u001b[0msplitlines\u001b[0m\u001b[0;34m(\u001b[0m\u001b[0;34m)\u001b[0m\u001b[0;34m\u001b[0m\u001b[0;34m\u001b[0m\u001b[0m\n\u001b[1;32m    702\u001b[0m     \u001b[0;32mwith\u001b[0m \u001b[0mp\u001b[0m\u001b[0;34m.\u001b[0m\u001b[0mgroup\u001b[0m\u001b[0;34m(\u001b[0m\u001b[0;34m)\u001b[0m\u001b[0;34m:\u001b[0m\u001b[0;34m\u001b[0m\u001b[0;34m\u001b[0m\u001b[0m\n",
      "\u001b[0;32m~/opt/miniconda3/envs/deep_learning/lib/python3.8/site-packages/pandas/core/frame.py\u001b[0m in \u001b[0;36m__repr__\u001b[0;34m(self)\u001b[0m\n\u001b[1;32m    678\u001b[0m                     \u001b[0mdtype\u001b[0m\u001b[0;34m,\u001b[0m\u001b[0;34m\u001b[0m\u001b[0;34m\u001b[0m\u001b[0m\n\u001b[1;32m    679\u001b[0m                     \u001b[0mcopy\u001b[0m\u001b[0;34m,\u001b[0m\u001b[0;34m\u001b[0m\u001b[0;34m\u001b[0m\u001b[0m\n\u001b[0;32m--> 680\u001b[0;31m                     \u001b[0mtyp\u001b[0m\u001b[0;34m=\u001b[0m\u001b[0mmanager\u001b[0m\u001b[0;34m,\u001b[0m\u001b[0;34m\u001b[0m\u001b[0;34m\u001b[0m\u001b[0m\n\u001b[0m\u001b[1;32m    681\u001b[0m                 )\n\u001b[1;32m    682\u001b[0m             \u001b[0;32melif\u001b[0m \u001b[0mgetattr\u001b[0m\u001b[0;34m(\u001b[0m\u001b[0mdata\u001b[0m\u001b[0;34m,\u001b[0m \u001b[0;34m\"name\"\u001b[0m\u001b[0;34m,\u001b[0m \u001b[0;32mNone\u001b[0m\u001b[0;34m)\u001b[0m \u001b[0;32mis\u001b[0m \u001b[0;32mnot\u001b[0m \u001b[0;32mNone\u001b[0m\u001b[0;34m:\u001b[0m\u001b[0;34m\u001b[0m\u001b[0;34m\u001b[0m\u001b[0m\n",
      "\u001b[0;32m~/opt/miniconda3/envs/deep_learning/lib/python3.8/site-packages/pandas/core/frame.py\u001b[0m in \u001b[0;36mto_string\u001b[0;34m(self, buf, columns, col_space, header, index, na_rep, formatters, float_format, sparsify, index_names, justify, max_rows, min_rows, max_cols, show_dimensions, decimal, line_width, max_colwidth, encoding)\u001b[0m\n\u001b[1;32m    799\u001b[0m \u001b[0;34m\u001b[0m\u001b[0m\n\u001b[1;32m    800\u001b[0m         \u001b[0mNDFrame\u001b[0m\u001b[0;34m.\u001b[0m\u001b[0m__init__\u001b[0m\u001b[0;34m(\u001b[0m\u001b[0mself\u001b[0m\u001b[0;34m,\u001b[0m \u001b[0mmgr\u001b[0m\u001b[0;34m)\u001b[0m\u001b[0;34m\u001b[0m\u001b[0;34m\u001b[0m\u001b[0m\n\u001b[0;32m--> 801\u001b[0;31m \u001b[0;34m\u001b[0m\u001b[0m\n\u001b[0m\u001b[1;32m    802\u001b[0m     \u001b[0;31m# ----------------------------------------------------------------------\u001b[0m\u001b[0;34m\u001b[0m\u001b[0;34m\u001b[0m\u001b[0;34m\u001b[0m\u001b[0m\n\u001b[1;32m    803\u001b[0m \u001b[0;34m\u001b[0m\u001b[0m\n",
      "\u001b[0;32m~/opt/miniconda3/envs/deep_learning/lib/python3.8/site-packages/pandas/io/formats/format.py\u001b[0m in \u001b[0;36m__init__\u001b[0;34m(self, frame, columns, col_space, header, index, na_rep, formatters, justify, float_format, sparsify, index_names, line_width, max_rows, min_rows, max_cols, show_dimensions, decimal, table_id, render_links, bold_rows, escape)\u001b[0m\n\u001b[1;32m    591\u001b[0m         \u001b[0mself\u001b[0m\u001b[0;34m.\u001b[0m\u001b[0mshow_index_names\u001b[0m \u001b[0;34m=\u001b[0m \u001b[0mindex_names\u001b[0m\u001b[0;34m\u001b[0m\u001b[0;34m\u001b[0m\u001b[0m\n\u001b[1;32m    592\u001b[0m         \u001b[0mself\u001b[0m\u001b[0;34m.\u001b[0m\u001b[0mdecimal\u001b[0m \u001b[0;34m=\u001b[0m \u001b[0mdecimal\u001b[0m\u001b[0;34m\u001b[0m\u001b[0;34m\u001b[0m\u001b[0m\n\u001b[0;32m--> 593\u001b[0;31m         \u001b[0mself\u001b[0m\u001b[0;34m.\u001b[0m\u001b[0mbold_rows\u001b[0m \u001b[0;34m=\u001b[0m \u001b[0mbold_rows\u001b[0m\u001b[0;34m\u001b[0m\u001b[0;34m\u001b[0m\u001b[0m\n\u001b[0m\u001b[1;32m    594\u001b[0m         \u001b[0mself\u001b[0m\u001b[0;34m.\u001b[0m\u001b[0mescape\u001b[0m \u001b[0;34m=\u001b[0m \u001b[0mescape\u001b[0m\u001b[0;34m\u001b[0m\u001b[0;34m\u001b[0m\u001b[0m\n\u001b[1;32m    595\u001b[0m         \u001b[0mself\u001b[0m\u001b[0;34m.\u001b[0m\u001b[0mmax_rows\u001b[0m \u001b[0;34m=\u001b[0m \u001b[0mmax_rows\u001b[0m\u001b[0;34m\u001b[0m\u001b[0;34m\u001b[0m\u001b[0m\n",
      "\u001b[0;32m~/opt/miniconda3/envs/deep_learning/lib/python3.8/site-packages/pandas/core/frame.py\u001b[0m in \u001b[0;36m__len__\u001b[0;34m(self)\u001b[0m\n\u001b[1;32m   1039\u001b[0m                 \u001b[0mfloat_format\u001b[0m\u001b[0;34m=\u001b[0m\u001b[0;32mNone\u001b[0m\u001b[0;34m,\u001b[0m\u001b[0;34m\u001b[0m\u001b[0;34m\u001b[0m\u001b[0m\n\u001b[1;32m   1040\u001b[0m                 \u001b[0msparsify\u001b[0m\u001b[0;34m=\u001b[0m\u001b[0;32mNone\u001b[0m\u001b[0;34m,\u001b[0m\u001b[0;34m\u001b[0m\u001b[0;34m\u001b[0m\u001b[0m\n\u001b[0;32m-> 1041\u001b[0;31m                 \u001b[0mjustify\u001b[0m\u001b[0;34m=\u001b[0m\u001b[0;32mNone\u001b[0m\u001b[0;34m,\u001b[0m\u001b[0;34m\u001b[0m\u001b[0;34m\u001b[0m\u001b[0m\n\u001b[0m\u001b[1;32m   1042\u001b[0m                 \u001b[0mindex_names\u001b[0m\u001b[0;34m=\u001b[0m\u001b[0;32mTrue\u001b[0m\u001b[0;34m,\u001b[0m\u001b[0;34m\u001b[0m\u001b[0;34m\u001b[0m\u001b[0m\n\u001b[1;32m   1043\u001b[0m                 \u001b[0mheader\u001b[0m\u001b[0;34m=\u001b[0m\u001b[0;32mTrue\u001b[0m\u001b[0;34m,\u001b[0m\u001b[0;34m\u001b[0m\u001b[0;34m\u001b[0m\u001b[0m\n",
      "\u001b[0;32m~/opt/miniconda3/envs/deep_learning/lib/python3.8/site-packages/pandas/core/generic.py\u001b[0m in \u001b[0;36m__getattr__\u001b[0;34m(self, name)\u001b[0m\n\u001b[1;32m   5268\u001b[0m         \u001b[0;34m>>\u001b[0m\u001b[0;34m>\u001b[0m \u001b[0mdf\u001b[0m\u001b[0;34m.\u001b[0m\u001b[0mtail\u001b[0m\u001b[0;34m(\u001b[0m\u001b[0;34m)\u001b[0m\u001b[0;34m\u001b[0m\u001b[0;34m\u001b[0m\u001b[0m\n\u001b[1;32m   5269\u001b[0m            \u001b[0manimal\u001b[0m\u001b[0;34m\u001b[0m\u001b[0;34m\u001b[0m\u001b[0m\n\u001b[0;32m-> 5270\u001b[0;31m         \u001b[0;36m4\u001b[0m  \u001b[0mmonkey\u001b[0m\u001b[0;34m\u001b[0m\u001b[0;34m\u001b[0m\u001b[0m\n\u001b[0m\u001b[1;32m   5271\u001b[0m         \u001b[0;36m5\u001b[0m  \u001b[0mparrot\u001b[0m\u001b[0;34m\u001b[0m\u001b[0;34m\u001b[0m\u001b[0m\n\u001b[1;32m   5272\u001b[0m         \u001b[0;36m6\u001b[0m   \u001b[0mshark\u001b[0m\u001b[0;34m\u001b[0m\u001b[0;34m\u001b[0m\u001b[0m\n",
      "\u001b[0;32m~/opt/miniconda3/envs/deep_learning/lib/python3.8/site-packages/pandas/_libs/properties.pyx\u001b[0m in \u001b[0;36mpandas._libs.properties.AxisProperty.__get__\u001b[0;34m()\u001b[0m\n",
      "\u001b[0;32m~/opt/miniconda3/envs/deep_learning/lib/python3.8/site-packages/pandas/core/generic.py\u001b[0m in \u001b[0;36m__getattr__\u001b[0;34m(self, name)\u001b[0m\n\u001b[1;32m   5268\u001b[0m         \u001b[0;34m>>\u001b[0m\u001b[0;34m>\u001b[0m \u001b[0mdf\u001b[0m\u001b[0;34m.\u001b[0m\u001b[0mtail\u001b[0m\u001b[0;34m(\u001b[0m\u001b[0;34m)\u001b[0m\u001b[0;34m\u001b[0m\u001b[0;34m\u001b[0m\u001b[0m\n\u001b[1;32m   5269\u001b[0m            \u001b[0manimal\u001b[0m\u001b[0;34m\u001b[0m\u001b[0;34m\u001b[0m\u001b[0m\n\u001b[0;32m-> 5270\u001b[0;31m         \u001b[0;36m4\u001b[0m  \u001b[0mmonkey\u001b[0m\u001b[0;34m\u001b[0m\u001b[0;34m\u001b[0m\u001b[0m\n\u001b[0m\u001b[1;32m   5271\u001b[0m         \u001b[0;36m5\u001b[0m  \u001b[0mparrot\u001b[0m\u001b[0;34m\u001b[0m\u001b[0;34m\u001b[0m\u001b[0m\n\u001b[1;32m   5272\u001b[0m         \u001b[0;36m6\u001b[0m   \u001b[0mshark\u001b[0m\u001b[0;34m\u001b[0m\u001b[0;34m\u001b[0m\u001b[0m\n",
      "\u001b[0;31mAttributeError\u001b[0m: 'DataFrame' object has no attribute '_data'"
     ]
    }
   ],
   "source": [
    "unpickled_df.info"
   ]
  },
  {
   "cell_type": "code",
   "execution_count": null,
   "id": "b3ef7d3b",
   "metadata": {},
   "outputs": [],
   "source": []
  }
 ],
 "metadata": {
  "kernelspec": {
   "display_name": "Python 3.6 (tensorflow)",
   "language": "python",
   "name": "deep_learning"
  },
  "language_info": {
   "codemirror_mode": {
    "name": "ipython",
    "version": 3
   },
   "file_extension": ".py",
   "mimetype": "text/x-python",
   "name": "python",
   "nbconvert_exporter": "python",
   "pygments_lexer": "ipython3",
   "version": "3.8.13"
  }
 },
 "nbformat": 4,
 "nbformat_minor": 5
}
