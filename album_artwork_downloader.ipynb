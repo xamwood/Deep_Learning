{
 "cells": [
  {
   "cell_type": "code",
   "execution_count": 78,
   "id": "c85c8de7",
   "metadata": {},
   "outputs": [],
   "source": [
    "import spotipy\n",
    "import spotipy.util as util\n",
    "import csv\n",
    "import requests\n",
    "import shutil\n",
    "import urllib.request\n",
    "from tqdm import tqdm\n",
    "import billboard\n",
    "import pandas as pd\n",
    "import time\n",
    "import numpy as np\n",
    "from skimage import io\n",
    "import cv2\n",
    "import tensorflow as tf\n",
    "from tensorflow.keras.preprocessing import image\n",
    "from tqdm import tqdm"
   ]
  },
  {
   "cell_type": "code",
   "execution_count": 79,
   "id": "fe7aad92",
   "metadata": {},
   "outputs": [],
   "source": [
    "df = pd.read_pickle('./album_artwork_df.pkl').dropna()"
   ]
  },
  {
   "cell_type": "code",
   "execution_count": 80,
   "id": "449f3467",
   "metadata": {},
   "outputs": [],
   "source": [
    "df['genre_sum'] = df.apply(lambda x: x.rock+x.rap+x.country+x.latin+x.jazz+x.holiday,axis = 1)"
   ]
  },
  {
   "cell_type": "code",
   "execution_count": 81,
   "id": "975a6074",
   "metadata": {},
   "outputs": [],
   "source": [
    "class_names = ['rock','rap','country','latin','jazz','holiday']"
   ]
  },
  {
   "cell_type": "code",
   "execution_count": 82,
   "id": "da8db301",
   "metadata": {},
   "outputs": [],
   "source": [
    "def genre(row):\n",
    "    if row.rock ==1:\n",
    "        return(0)\n",
    "    if row.rap ==1:\n",
    "        return(1)\n",
    "    if row.country ==1:\n",
    "        return(2)\n",
    "    if row.latin ==1:\n",
    "        return(3)\n",
    "    if row.jazz ==1:\n",
    "        return(4)\n",
    "    if row.holiday ==1:\n",
    "        return(5)"
   ]
  },
  {
   "cell_type": "code",
   "execution_count": 116,
   "id": "fa05077b",
   "metadata": {},
   "outputs": [],
   "source": [
    "def genre2(row):\n",
    "    if row.rock ==1:\n",
    "        return('rock')\n",
    "    if row.rap ==1:\n",
    "        return('rap')\n",
    "    if row.country ==1:\n",
    "        return('country')\n",
    "    if row.latin ==1:\n",
    "        return('latin')\n",
    "    if row.jazz ==1:\n",
    "        return('jazz')\n",
    "    if row.holiday ==1:\n",
    "        return('holiday')"
   ]
  },
  {
   "cell_type": "code",
   "execution_count": 85,
   "id": "44d353ad",
   "metadata": {},
   "outputs": [
    {
     "data": {
      "text/plain": [
       "0"
      ]
     },
     "execution_count": 85,
     "metadata": {},
     "output_type": "execute_result"
    }
   ],
   "source": [
    "genre(df.iloc[0])"
   ]
  },
  {
   "cell_type": "code",
   "execution_count": 83,
   "id": "db55ad6c",
   "metadata": {},
   "outputs": [
    {
     "data": {
      "text/html": [
       "<div>\n",
       "<style scoped>\n",
       "    .dataframe tbody tr th:only-of-type {\n",
       "        vertical-align: middle;\n",
       "    }\n",
       "\n",
       "    .dataframe tbody tr th {\n",
       "        vertical-align: top;\n",
       "    }\n",
       "\n",
       "    .dataframe thead th {\n",
       "        text-align: right;\n",
       "    }\n",
       "</style>\n",
       "<table border=\"1\" class=\"dataframe\">\n",
       "  <thead>\n",
       "    <tr style=\"text-align: right;\">\n",
       "      <th></th>\n",
       "      <th>artist</th>\n",
       "      <th>album</th>\n",
       "      <th>rock</th>\n",
       "      <th>rap</th>\n",
       "      <th>country</th>\n",
       "      <th>latin</th>\n",
       "      <th>jazz</th>\n",
       "      <th>holiday</th>\n",
       "      <th>image_url</th>\n",
       "      <th>genre_sum</th>\n",
       "    </tr>\n",
       "  </thead>\n",
       "  <tbody>\n",
       "    <tr>\n",
       "      <th>0</th>\n",
       "      <td>The Rolling Stones</td>\n",
       "      <td>GRRR!</td>\n",
       "      <td>1.0</td>\n",
       "      <td>0.0</td>\n",
       "      <td>0.0</td>\n",
       "      <td>0.0</td>\n",
       "      <td>0.0</td>\n",
       "      <td>0.0</td>\n",
       "      <td>(https://i.scdn.co/image/ab67616d0000b273196dd...</td>\n",
       "      <td>1.0</td>\n",
       "    </tr>\n",
       "    <tr>\n",
       "      <th>1</th>\n",
       "      <td>Crown The Empire</td>\n",
       "      <td>Retrograde</td>\n",
       "      <td>1.0</td>\n",
       "      <td>0.0</td>\n",
       "      <td>0.0</td>\n",
       "      <td>0.0</td>\n",
       "      <td>0.0</td>\n",
       "      <td>0.0</td>\n",
       "      <td>(https://i.scdn.co/image/ab67616d0000b27318750...</td>\n",
       "      <td>1.0</td>\n",
       "    </tr>\n",
       "    <tr>\n",
       "      <th>2</th>\n",
       "      <td>Burn The Priest</td>\n",
       "      <td>Legion: XX</td>\n",
       "      <td>1.0</td>\n",
       "      <td>0.0</td>\n",
       "      <td>0.0</td>\n",
       "      <td>0.0</td>\n",
       "      <td>0.0</td>\n",
       "      <td>0.0</td>\n",
       "      <td>(https://i.scdn.co/image/ab67616d0000b2735ba4b...</td>\n",
       "      <td>1.0</td>\n",
       "    </tr>\n",
       "    <tr>\n",
       "      <th>3</th>\n",
       "      <td>Miley Cyrus</td>\n",
       "      <td>Plastic Hearts</td>\n",
       "      <td>1.0</td>\n",
       "      <td>0.0</td>\n",
       "      <td>0.0</td>\n",
       "      <td>0.0</td>\n",
       "      <td>0.0</td>\n",
       "      <td>0.0</td>\n",
       "      <td>(https://i.scdn.co/image/ab67616d0000b2738cffb...</td>\n",
       "      <td>1.0</td>\n",
       "    </tr>\n",
       "    <tr>\n",
       "      <th>4</th>\n",
       "      <td>Judas Priest</td>\n",
       "      <td>Firepower</td>\n",
       "      <td>1.0</td>\n",
       "      <td>0.0</td>\n",
       "      <td>0.0</td>\n",
       "      <td>0.0</td>\n",
       "      <td>0.0</td>\n",
       "      <td>0.0</td>\n",
       "      <td>(https://i.scdn.co/image/ab67616d0000b2735c48f...</td>\n",
       "      <td>1.0</td>\n",
       "    </tr>\n",
       "  </tbody>\n",
       "</table>\n",
       "</div>"
      ],
      "text/plain": [
       "               artist           album  rock  rap  country  latin  jazz  \\\n",
       "0  The Rolling Stones           GRRR!   1.0  0.0      0.0    0.0   0.0   \n",
       "1    Crown The Empire      Retrograde   1.0  0.0      0.0    0.0   0.0   \n",
       "2     Burn The Priest      Legion: XX   1.0  0.0      0.0    0.0   0.0   \n",
       "3         Miley Cyrus  Plastic Hearts   1.0  0.0      0.0    0.0   0.0   \n",
       "4        Judas Priest       Firepower   1.0  0.0      0.0    0.0   0.0   \n",
       "\n",
       "   holiday                                          image_url  genre_sum  \n",
       "0      0.0  (https://i.scdn.co/image/ab67616d0000b273196dd...        1.0  \n",
       "1      0.0  (https://i.scdn.co/image/ab67616d0000b27318750...        1.0  \n",
       "2      0.0  (https://i.scdn.co/image/ab67616d0000b2735ba4b...        1.0  \n",
       "3      0.0  (https://i.scdn.co/image/ab67616d0000b2738cffb...        1.0  \n",
       "4      0.0  (https://i.scdn.co/image/ab67616d0000b2735c48f...        1.0  "
      ]
     },
     "execution_count": 83,
     "metadata": {},
     "output_type": "execute_result"
    }
   ],
   "source": [
    "df.head()"
   ]
  },
  {
   "cell_type": "code",
   "execution_count": 86,
   "id": "305b6057",
   "metadata": {},
   "outputs": [],
   "source": [
    "df['genre'] = df.apply(lambda x: genre(x),axis = 1)"
   ]
  },
  {
   "cell_type": "code",
   "execution_count": 122,
   "id": "45034624",
   "metadata": {},
   "outputs": [],
   "source": [
    "df['genre2'] = df.apply(lambda x: genre2(x),axis = 1)"
   ]
  },
  {
   "cell_type": "code",
   "execution_count": 87,
   "id": "e9d5f8b1",
   "metadata": {},
   "outputs": [],
   "source": [
    "df['big_url']=df.image_url.apply(lambda x: x[0] )\n",
    "df['small_url']=df.image_url.apply(lambda x: x[1] )"
   ]
  },
  {
   "cell_type": "code",
   "execution_count": 88,
   "id": "4a2b58ac",
   "metadata": {},
   "outputs": [],
   "source": [
    "from io import BytesIO\n",
    "\n",
    "def loadImage(URL):\n",
    "    with urllib.request.urlopen(URL) as url:\n",
    "        img = image.load_img(BytesIO(url.read()), target_size=(300, 300))\n",
    "\n",
    "    return image.img_to_array(img)"
   ]
  },
  {
   "cell_type": "code",
   "execution_count": 89,
   "id": "2e4f62a1",
   "metadata": {},
   "outputs": [
    {
     "name": "stderr",
     "output_type": "stream",
     "text": [
      "100%|███████████████████████████████████████| 8412/8412 [19:15<00:00,  7.28it/s]\n"
     ]
    }
   ],
   "source": [
    "tqdm.pandas()\n",
    "df['image_vector'] = df.small_url.progress_apply(lambda x: loadImage(x))"
   ]
  },
  {
   "cell_type": "code",
   "execution_count": 90,
   "id": "7cb4ec78",
   "metadata": {},
   "outputs": [],
   "source": [
    "df.to_pickle('./album_artwork_vector.pkl')"
   ]
  },
  {
   "cell_type": "code",
   "execution_count": 149,
   "id": "c070d68f",
   "metadata": {},
   "outputs": [],
   "source": [
    "# making it so there are no multi-genre albums\n",
    "df_simple = df[df.genre_sum ==1]"
   ]
  },
  {
   "cell_type": "code",
   "execution_count": 92,
   "id": "b5b407ae",
   "metadata": {},
   "outputs": [
    {
     "data": {
      "text/plain": [
       "8412"
      ]
     },
     "execution_count": 92,
     "metadata": {},
     "output_type": "execute_result"
    }
   ],
   "source": [
    "len(df)"
   ]
  },
  {
   "cell_type": "code",
   "execution_count": 93,
   "id": "0aba5289",
   "metadata": {},
   "outputs": [
    {
     "data": {
      "text/plain": [
       "8184"
      ]
     },
     "execution_count": 93,
     "metadata": {},
     "output_type": "execute_result"
    }
   ],
   "source": [
    "len(df_simple)"
   ]
  },
  {
   "cell_type": "code",
   "execution_count": 94,
   "id": "7bea10a4",
   "metadata": {},
   "outputs": [
    {
     "data": {
      "text/html": [
       "<div>\n",
       "<style scoped>\n",
       "    .dataframe tbody tr th:only-of-type {\n",
       "        vertical-align: middle;\n",
       "    }\n",
       "\n",
       "    .dataframe tbody tr th {\n",
       "        vertical-align: top;\n",
       "    }\n",
       "\n",
       "    .dataframe thead th {\n",
       "        text-align: right;\n",
       "    }\n",
       "</style>\n",
       "<table border=\"1\" class=\"dataframe\">\n",
       "  <thead>\n",
       "    <tr style=\"text-align: right;\">\n",
       "      <th></th>\n",
       "      <th>artist</th>\n",
       "      <th>album</th>\n",
       "      <th>rock</th>\n",
       "      <th>rap</th>\n",
       "      <th>country</th>\n",
       "      <th>latin</th>\n",
       "      <th>jazz</th>\n",
       "      <th>holiday</th>\n",
       "      <th>image_url</th>\n",
       "      <th>genre_sum</th>\n",
       "      <th>genre</th>\n",
       "      <th>big_url</th>\n",
       "      <th>small_url</th>\n",
       "      <th>image_vector</th>\n",
       "    </tr>\n",
       "  </thead>\n",
       "  <tbody>\n",
       "    <tr>\n",
       "      <th>6558</th>\n",
       "      <td>Reggaeton Ninos</td>\n",
       "      <td>Ninos Vol. 2</td>\n",
       "      <td>0.0</td>\n",
       "      <td>0.0</td>\n",
       "      <td>0.0</td>\n",
       "      <td>1.0</td>\n",
       "      <td>0.0</td>\n",
       "      <td>0.0</td>\n",
       "      <td>(https://i.scdn.co/image/ab67616d0000b273ee3eb...</td>\n",
       "      <td>1.0</td>\n",
       "      <td>3</td>\n",
       "      <td>https://i.scdn.co/image/ab67616d0000b273ee3ebe...</td>\n",
       "      <td>https://i.scdn.co/image/ab67616d00001e02ee3ebe...</td>\n",
       "      <td>[[[254.0, 241.0, 4.0], [254.0, 241.0, 4.0], [2...</td>\n",
       "    </tr>\n",
       "    <tr>\n",
       "      <th>2343</th>\n",
       "      <td>Kid Rock</td>\n",
       "      <td>Greatest Hits: You Never Saw Coming</td>\n",
       "      <td>1.0</td>\n",
       "      <td>0.0</td>\n",
       "      <td>0.0</td>\n",
       "      <td>0.0</td>\n",
       "      <td>0.0</td>\n",
       "      <td>0.0</td>\n",
       "      <td>(https://i.scdn.co/image/ab67616d0000b27387cf8...</td>\n",
       "      <td>1.0</td>\n",
       "      <td>0</td>\n",
       "      <td>https://i.scdn.co/image/ab67616d0000b27387cf81...</td>\n",
       "      <td>https://i.scdn.co/image/ab67616d00001e0287cf81...</td>\n",
       "      <td>[[[0.0, 0.0, 0.0], [0.0, 0.0, 0.0], [0.0, 0.0,...</td>\n",
       "    </tr>\n",
       "    <tr>\n",
       "      <th>1345</th>\n",
       "      <td>Switchfoot</td>\n",
       "      <td>Oh! Gravity</td>\n",
       "      <td>1.0</td>\n",
       "      <td>0.0</td>\n",
       "      <td>0.0</td>\n",
       "      <td>0.0</td>\n",
       "      <td>0.0</td>\n",
       "      <td>0.0</td>\n",
       "      <td>(https://i.scdn.co/image/ab67616d0000b27392b48...</td>\n",
       "      <td>1.0</td>\n",
       "      <td>0</td>\n",
       "      <td>https://i.scdn.co/image/ab67616d0000b27392b485...</td>\n",
       "      <td>https://i.scdn.co/image/ab67616d00001e0292b485...</td>\n",
       "      <td>[[[13.0, 13.0, 13.0], [61.0, 61.0, 61.0], [60....</td>\n",
       "    </tr>\n",
       "    <tr>\n",
       "      <th>7509</th>\n",
       "      <td>Harry Connick, Jr.</td>\n",
       "      <td>Your Songs</td>\n",
       "      <td>0.0</td>\n",
       "      <td>0.0</td>\n",
       "      <td>0.0</td>\n",
       "      <td>0.0</td>\n",
       "      <td>1.0</td>\n",
       "      <td>0.0</td>\n",
       "      <td>(https://i.scdn.co/image/ab67616d0000b273aca69...</td>\n",
       "      <td>1.0</td>\n",
       "      <td>4</td>\n",
       "      <td>https://i.scdn.co/image/ab67616d0000b273aca693...</td>\n",
       "      <td>https://i.scdn.co/image/ab67616d00001e02aca693...</td>\n",
       "      <td>[[[178.0, 210.0, 207.0], [209.0, 239.0, 237.0]...</td>\n",
       "    </tr>\n",
       "    <tr>\n",
       "      <th>5912</th>\n",
       "      <td>Alegres de La Sierra</td>\n",
       "      <td>Duele El Amor</td>\n",
       "      <td>0.0</td>\n",
       "      <td>0.0</td>\n",
       "      <td>0.0</td>\n",
       "      <td>1.0</td>\n",
       "      <td>0.0</td>\n",
       "      <td>0.0</td>\n",
       "      <td>(https://i.scdn.co/image/ab67616d0000b27325906...</td>\n",
       "      <td>1.0</td>\n",
       "      <td>3</td>\n",
       "      <td>https://i.scdn.co/image/ab67616d0000b273259067...</td>\n",
       "      <td>https://i.scdn.co/image/ab67616d00001e02259067...</td>\n",
       "      <td>[[[47.0, 27.0, 26.0], [56.0, 37.0, 33.0], [43....</td>\n",
       "    </tr>\n",
       "  </tbody>\n",
       "</table>\n",
       "</div>"
      ],
      "text/plain": [
       "                    artist                                album  rock  rap  \\\n",
       "6558       Reggaeton Ninos                         Ninos Vol. 2   0.0  0.0   \n",
       "2343              Kid Rock  Greatest Hits: You Never Saw Coming   1.0  0.0   \n",
       "1345            Switchfoot                          Oh! Gravity   1.0  0.0   \n",
       "7509    Harry Connick, Jr.                           Your Songs   0.0  0.0   \n",
       "5912  Alegres de La Sierra                        Duele El Amor   0.0  0.0   \n",
       "\n",
       "      country  latin  jazz  holiday  \\\n",
       "6558      0.0    1.0   0.0      0.0   \n",
       "2343      0.0    0.0   0.0      0.0   \n",
       "1345      0.0    0.0   0.0      0.0   \n",
       "7509      0.0    0.0   1.0      0.0   \n",
       "5912      0.0    1.0   0.0      0.0   \n",
       "\n",
       "                                              image_url  genre_sum  genre  \\\n",
       "6558  (https://i.scdn.co/image/ab67616d0000b273ee3eb...        1.0      3   \n",
       "2343  (https://i.scdn.co/image/ab67616d0000b27387cf8...        1.0      0   \n",
       "1345  (https://i.scdn.co/image/ab67616d0000b27392b48...        1.0      0   \n",
       "7509  (https://i.scdn.co/image/ab67616d0000b273aca69...        1.0      4   \n",
       "5912  (https://i.scdn.co/image/ab67616d0000b27325906...        1.0      3   \n",
       "\n",
       "                                                big_url  \\\n",
       "6558  https://i.scdn.co/image/ab67616d0000b273ee3ebe...   \n",
       "2343  https://i.scdn.co/image/ab67616d0000b27387cf81...   \n",
       "1345  https://i.scdn.co/image/ab67616d0000b27392b485...   \n",
       "7509  https://i.scdn.co/image/ab67616d0000b273aca693...   \n",
       "5912  https://i.scdn.co/image/ab67616d0000b273259067...   \n",
       "\n",
       "                                              small_url  \\\n",
       "6558  https://i.scdn.co/image/ab67616d00001e02ee3ebe...   \n",
       "2343  https://i.scdn.co/image/ab67616d00001e0287cf81...   \n",
       "1345  https://i.scdn.co/image/ab67616d00001e0292b485...   \n",
       "7509  https://i.scdn.co/image/ab67616d00001e02aca693...   \n",
       "5912  https://i.scdn.co/image/ab67616d00001e02259067...   \n",
       "\n",
       "                                           image_vector  \n",
       "6558  [[[254.0, 241.0, 4.0], [254.0, 241.0, 4.0], [2...  \n",
       "2343  [[[0.0, 0.0, 0.0], [0.0, 0.0, 0.0], [0.0, 0.0,...  \n",
       "1345  [[[13.0, 13.0, 13.0], [61.0, 61.0, 61.0], [60....  \n",
       "7509  [[[178.0, 210.0, 207.0], [209.0, 239.0, 237.0]...  \n",
       "5912  [[[47.0, 27.0, 26.0], [56.0, 37.0, 33.0], [43....  "
      ]
     },
     "execution_count": 94,
     "metadata": {},
     "output_type": "execute_result"
    }
   ],
   "source": [
    "df_simple.sample(5)"
   ]
  },
  {
   "cell_type": "code",
   "execution_count": 95,
   "id": "c133e4d9",
   "metadata": {},
   "outputs": [],
   "source": [
    "df_s = df_simple[['genre','image_vector']]"
   ]
  },
  {
   "cell_type": "code",
   "execution_count": 96,
   "id": "800c9ef5",
   "metadata": {},
   "outputs": [],
   "source": [
    "im_vec = df_simple['image_vector']\n",
    "genres = df_simple['genre']"
   ]
  },
  {
   "cell_type": "markdown",
   "id": "9fd7c10c",
   "metadata": {},
   "source": [
    "I gave up on trying to create a new dataset from vectors and am instead downloading images"
   ]
  },
  {
   "cell_type": "code",
   "execution_count": 151,
   "id": "ca0132d2",
   "metadata": {},
   "outputs": [],
   "source": [
    "import urllib.request\n",
    "\n",
    "for index, row in df_simple.iterrows():\n",
    "    urllib.request.urlretrieve(row.small_url, 'my_data/'+row.genre2+'/'+row.artist.replace('/','')+'_'+row.album.replace('/','')+'.jpg')"
   ]
  },
  {
   "cell_type": "code",
   "execution_count": null,
   "id": "b9457134",
   "metadata": {},
   "outputs": [],
   "source": []
  }
 ],
 "metadata": {
  "kernelspec": {
   "display_name": "Python 3.6 (tensorflow)",
   "language": "python",
   "name": "deep_learning"
  },
  "language_info": {
   "codemirror_mode": {
    "name": "ipython",
    "version": 3
   },
   "file_extension": ".py",
   "mimetype": "text/x-python",
   "name": "python",
   "nbconvert_exporter": "python",
   "pygments_lexer": "ipython3",
   "version": "3.8.13"
  }
 },
 "nbformat": 4,
 "nbformat_minor": 5
}
